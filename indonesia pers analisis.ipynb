{
 "cells": [
  {
   "cell_type": "code",
   "execution_count": 1,
   "metadata": {},
   "outputs": [],
   "source": [
    "from pandas_bokeh import pd, plot"
   ]
  },
  {
   "cell_type": "markdown",
   "metadata": {},
   "source": [
    "## Perusahaan Pers"
   ]
  },
  {
   "cell_type": "code",
   "execution_count": 2,
   "metadata": {},
   "outputs": [],
   "source": [
    "ppers = pd.read_csv('data/dewan-pers/perusahaan_pers.csv', \n",
    "                    usecols=['No', 'Nama Media', 'Jenis Media', 'Penanggung Jawab', 'Pemimpin Redaksi',\n",
    "                             'Badan Hukum', 'Provinsi', 'Alamat', 'Telp', 'Email', 'Website', 'Status',\n",
    "                             'User Status Certificate Date'])"
   ]
  },
  {
   "cell_type": "code",
   "execution_count": 3,
   "metadata": {},
   "outputs": [
    {
     "name": "stdout",
     "output_type": "stream",
     "text": [
      "<class 'pandas.core.frame.DataFrame'>\n",
      "RangeIndex: 1800 entries, 0 to 1799\n",
      "Data columns (total 13 columns):\n",
      " #   Column                        Non-Null Count  Dtype \n",
      "---  ------                        --------------  ----- \n",
      " 0   No                            1800 non-null   int64 \n",
      " 1   Nama Media                    1800 non-null   object\n",
      " 2   Jenis Media                   1800 non-null   object\n",
      " 3   Penanggung Jawab              1183 non-null   object\n",
      " 4   Pemimpin Redaksi              1183 non-null   object\n",
      " 5   Badan Hukum                   1797 non-null   object\n",
      " 6   Provinsi                      1799 non-null   object\n",
      " 7   Alamat                        1773 non-null   object\n",
      " 8   Telp                          1499 non-null   object\n",
      " 9   Email                         1438 non-null   object\n",
      " 10  Website                       1326 non-null   object\n",
      " 11  Status                        1800 non-null   object\n",
      " 12  User Status Certificate Date  1800 non-null   object\n",
      "dtypes: int64(1), object(12)\n",
      "memory usage: 182.9+ KB\n"
     ]
    }
   ],
   "source": [
    "ppers.info()"
   ]
  },
  {
   "cell_type": "code",
   "execution_count": 4,
   "metadata": {},
   "outputs": [
    {
     "data": {
      "text/html": [
       "<div>\n",
       "<style scoped>\n",
       "    .dataframe tbody tr th:only-of-type {\n",
       "        vertical-align: middle;\n",
       "    }\n",
       "\n",
       "    .dataframe tbody tr th {\n",
       "        vertical-align: top;\n",
       "    }\n",
       "\n",
       "    .dataframe thead th {\n",
       "        text-align: right;\n",
       "    }\n",
       "</style>\n",
       "<table border=\"1\" class=\"dataframe\">\n",
       "  <thead>\n",
       "    <tr style=\"text-align: right;\">\n",
       "      <th></th>\n",
       "      <th>No</th>\n",
       "      <th>Nama Media</th>\n",
       "      <th>Jenis Media</th>\n",
       "      <th>Penanggung Jawab</th>\n",
       "      <th>Pemimpin Redaksi</th>\n",
       "      <th>Badan Hukum</th>\n",
       "      <th>Provinsi</th>\n",
       "      <th>Alamat</th>\n",
       "      <th>Telp</th>\n",
       "      <th>Email</th>\n",
       "      <th>Website</th>\n",
       "      <th>Status</th>\n",
       "      <th>User Status Certificate Date</th>\n",
       "    </tr>\n",
       "  </thead>\n",
       "  <tbody>\n",
       "    <tr>\n",
       "      <th>0</th>\n",
       "      <td>1</td>\n",
       "      <td>Bolmongraya.co</td>\n",
       "      <td>Siber</td>\n",
       "      <td>Asrar Jusuf</td>\n",
       "      <td>Asrar Jusuf</td>\n",
       "      <td>Media Bolmong Raya</td>\n",
       "      <td>Sulawesi Utara</td>\n",
       "      <td>Jl AP Mokoginta, Desa Pontodon, Kota Kotamobag...</td>\n",
       "      <td>08114317460</td>\n",
       "      <td>Bolmongraya99@gmail.com</td>\n",
       "      <td>https://bolmongraya.co</td>\n",
       "      <td>Terverifikasi Administratif dan Faktual</td>\n",
       "      <td>2022-06-23</td>\n",
       "    </tr>\n",
       "    <tr>\n",
       "      <th>1</th>\n",
       "      <td>2</td>\n",
       "      <td>Bolmongpost.com</td>\n",
       "      <td>Siber</td>\n",
       "      <td>Satrin Lasama`</td>\n",
       "      <td>Satrin Lasama`</td>\n",
       "      <td>Bolmong Post Cipta Parasana</td>\n",
       "      <td>Sulawesi Utara</td>\n",
       "      <td>Jalan Diponegoro, Kelurahan Biga, Kecamatan Ko...</td>\n",
       "      <td>0811434886 -085299938086</td>\n",
       "      <td>redaksibolmongpost@gmail.com</td>\n",
       "      <td>www.bolmongpost.com</td>\n",
       "      <td>Terverifikasi Administratif dan Faktual</td>\n",
       "      <td>2022-06-23</td>\n",
       "    </tr>\n",
       "  </tbody>\n",
       "</table>\n",
       "</div>"
      ],
      "text/plain": [
       "   No       Nama Media Jenis Media Penanggung Jawab Pemimpin Redaksi  \\\n",
       "0   1   Bolmongraya.co       Siber      Asrar Jusuf      Asrar Jusuf   \n",
       "1   2  Bolmongpost.com       Siber   Satrin Lasama`   Satrin Lasama`   \n",
       "\n",
       "                   Badan Hukum        Provinsi  \\\n",
       "0           Media Bolmong Raya  Sulawesi Utara   \n",
       "1  Bolmong Post Cipta Parasana  Sulawesi Utara   \n",
       "\n",
       "                                              Alamat  \\\n",
       "0  Jl AP Mokoginta, Desa Pontodon, Kota Kotamobag...   \n",
       "1  Jalan Diponegoro, Kelurahan Biga, Kecamatan Ko...   \n",
       "\n",
       "                       Telp                         Email  \\\n",
       "0               08114317460       Bolmongraya99@gmail.com   \n",
       "1  0811434886 -085299938086  redaksibolmongpost@gmail.com   \n",
       "\n",
       "                  Website                                   Status  \\\n",
       "0  https://bolmongraya.co  Terverifikasi Administratif dan Faktual   \n",
       "1     www.bolmongpost.com  Terverifikasi Administratif dan Faktual   \n",
       "\n",
       "  User Status Certificate Date  \n",
       "0                   2022-06-23  \n",
       "1                   2022-06-23  "
      ]
     },
     "execution_count": 4,
     "metadata": {},
     "output_type": "execute_result"
    }
   ],
   "source": [
    "ppers.head(2)"
   ]
  },
  {
   "cell_type": "code",
   "execution_count": 5,
   "metadata": {},
   "outputs": [
    {
     "data": {
      "text/html": [
       "<div>\n",
       "<style scoped>\n",
       "    .dataframe tbody tr th:only-of-type {\n",
       "        vertical-align: middle;\n",
       "    }\n",
       "\n",
       "    .dataframe tbody tr th {\n",
       "        vertical-align: top;\n",
       "    }\n",
       "\n",
       "    .dataframe thead th {\n",
       "        text-align: right;\n",
       "    }\n",
       "</style>\n",
       "<table border=\"1\" class=\"dataframe\">\n",
       "  <thead>\n",
       "    <tr style=\"text-align: right;\">\n",
       "      <th></th>\n",
       "      <th>No</th>\n",
       "      <th>Nama Media</th>\n",
       "      <th>Jenis Media</th>\n",
       "      <th>Penanggung Jawab</th>\n",
       "      <th>Pemimpin Redaksi</th>\n",
       "      <th>Badan Hukum</th>\n",
       "      <th>Provinsi</th>\n",
       "      <th>Alamat</th>\n",
       "      <th>Telp</th>\n",
       "      <th>Email</th>\n",
       "      <th>Website</th>\n",
       "      <th>Status</th>\n",
       "      <th>User Status Certificate Date</th>\n",
       "    </tr>\n",
       "  </thead>\n",
       "  <tbody>\n",
       "    <tr>\n",
       "      <th>1797</th>\n",
       "      <td>1788</td>\n",
       "      <td>Riau24.com</td>\n",
       "      <td>Siber</td>\n",
       "      <td>NaN</td>\n",
       "      <td>NaN</td>\n",
       "      <td>PT</td>\n",
       "      <td>Riau</td>\n",
       "      <td>Perkantoran Grand Sudirman Blok D 18 Jl. Datuk...</td>\n",
       "      <td>085320004928</td>\n",
       "      <td>info@riau24.com</td>\n",
       "      <td>www.riau24.com</td>\n",
       "      <td>Terverifikasi Administrasi dan Faktual</td>\n",
       "      <td>2018-09-04</td>\n",
       "    </tr>\n",
       "    <tr>\n",
       "      <th>1798</th>\n",
       "      <td>1789</td>\n",
       "      <td>Luwuk Post</td>\n",
       "      <td>Cetak</td>\n",
       "      <td>NaN</td>\n",
       "      <td>NaN</td>\n",
       "      <td>PT</td>\n",
       "      <td>Sulawesi Tengah</td>\n",
       "      <td>Jl. Imam Bonjol Km3 No.4 Kec. Luwuk, Kab. Bang...</td>\n",
       "      <td>0461-325497</td>\n",
       "      <td>NaN</td>\n",
       "      <td>NaN</td>\n",
       "      <td>Terverifikasi Administrasi dan Faktual</td>\n",
       "      <td>2018-09-04</td>\n",
       "    </tr>\n",
       "    <tr>\n",
       "      <th>1799</th>\n",
       "      <td>1790</td>\n",
       "      <td>Kawanua Tv</td>\n",
       "      <td>Televisi</td>\n",
       "      <td>NaN</td>\n",
       "      <td>NaN</td>\n",
       "      <td>PT</td>\n",
       "      <td>Sulawesi Utara</td>\n",
       "      <td>Gedung Graha Pena Manado Post Lt. 3 Jl. Babe P...</td>\n",
       "      <td>0431-855558</td>\n",
       "      <td>kawanuatv.md@gmail.com</td>\n",
       "      <td>NaN</td>\n",
       "      <td>Terverifikasi Administrasi dan Faktual</td>\n",
       "      <td>2018-09-04</td>\n",
       "    </tr>\n",
       "  </tbody>\n",
       "</table>\n",
       "</div>"
      ],
      "text/plain": [
       "        No  Nama Media Jenis Media Penanggung Jawab Pemimpin Redaksi  \\\n",
       "1797  1788  Riau24.com       Siber              NaN              NaN   \n",
       "1798  1789  Luwuk Post       Cetak              NaN              NaN   \n",
       "1799  1790  Kawanua Tv    Televisi              NaN              NaN   \n",
       "\n",
       "     Badan Hukum         Provinsi  \\\n",
       "1797          PT             Riau   \n",
       "1798          PT  Sulawesi Tengah   \n",
       "1799          PT   Sulawesi Utara   \n",
       "\n",
       "                                                 Alamat          Telp  \\\n",
       "1797  Perkantoran Grand Sudirman Blok D 18 Jl. Datuk...  085320004928   \n",
       "1798  Jl. Imam Bonjol Km3 No.4 Kec. Luwuk, Kab. Bang...   0461-325497   \n",
       "1799  Gedung Graha Pena Manado Post Lt. 3 Jl. Babe P...   0431-855558   \n",
       "\n",
       "                       Email         Website  \\\n",
       "1797         info@riau24.com  www.riau24.com   \n",
       "1798                     NaN             NaN   \n",
       "1799  kawanuatv.md@gmail.com             NaN   \n",
       "\n",
       "                                      Status User Status Certificate Date  \n",
       "1797  Terverifikasi Administrasi dan Faktual                   2018-09-04  \n",
       "1798  Terverifikasi Administrasi dan Faktual                   2018-09-04  \n",
       "1799  Terverifikasi Administrasi dan Faktual                   2018-09-04  "
      ]
     },
     "execution_count": 5,
     "metadata": {},
     "output_type": "execute_result"
    }
   ],
   "source": [
    "ppers.tail(3)"
   ]
  },
  {
   "cell_type": "code",
   "execution_count": 6,
   "metadata": {},
   "outputs": [],
   "source": [
    "ppers['Status'] = ppers['Status'].str.replace('Administrasi', 'Administratif')"
   ]
  },
  {
   "cell_type": "code",
   "execution_count": 7,
   "metadata": {},
   "outputs": [
    {
     "data": {
      "text/plain": [
       "array(['Sulawesi Utara', 'Sumatera Utara', 'Jawa Timur', 'Bengkulu',\n",
       "       'Sumatera Selatan', 'Banten', 'Lampung', 'Riau',\n",
       "       'Kalimantan Tengah', 'Kepulauan Riau', 'Jawa Barat',\n",
       "       'Kalimantan Barat', 'Sulawesi Selatan', 'Bali', 'DKI Jakarta',\n",
       "       'Sulawesi Tenggara', 'Jambi', 'Kalimantan Timur',\n",
       "       'Kalimantan Selatan', 'Sumatera Barat', 'Aceh', 'Jawa Tengah',\n",
       "       'Gorontalo', 'DI Yogyakarta', 'Sulawesi Tengah',\n",
       "       'Kepulauan Bangka Belitung', 'Maluku', 'Nusa Tenggara Barat',\n",
       "       'Kalimantan Utara', 'Nusa Tenggara Timur', 'Papua',\n",
       "       'Sulawesi Barat', 'Maluku Utara', 'Papua Barat', nan], dtype=object)"
      ]
     },
     "execution_count": 7,
     "metadata": {},
     "output_type": "execute_result"
    }
   ],
   "source": [
    "ppers['Provinsi'] = ppers['Provinsi'].str.replace('DKI Jakarta','Jakarta').replace('Jakarta','DKI Jakarta')\n",
    "ppers['Provinsi'] = ppers['Provinsi'].str.replace('Daerah Istimewa Jogjakarta','DI Yogyakarta')\n",
    "ppers['Provinsi'].unique()"
   ]
  },
  {
   "cell_type": "code",
   "execution_count": 8,
   "metadata": {},
   "outputs": [
    {
     "data": {
      "text/plain": [
       "35"
      ]
     },
     "execution_count": 8,
     "metadata": {},
     "output_type": "execute_result"
    }
   ],
   "source": [
    "len(ppers['Provinsi'].unique())"
   ]
  },
  {
   "cell_type": "code",
   "execution_count": 9,
   "metadata": {},
   "outputs": [
    {
     "data": {
      "text/plain": [
       "1769"
      ]
     },
     "execution_count": 9,
     "metadata": {},
     "output_type": "execute_result"
    }
   ],
   "source": [
    "len(ppers['Nama Media'].unique())"
   ]
  },
  {
   "cell_type": "code",
   "execution_count": 10,
   "metadata": {},
   "outputs": [],
   "source": [
    "by_provinsi = ppers.groupby(['Provinsi'])"
   ]
  },
  {
   "cell_type": "code",
   "execution_count": 11,
   "metadata": {},
   "outputs": [
    {
     "data": {
      "text/plain": [
       "Provinsi\n",
       "Kepulauan Riau               204\n",
       "DKI Jakarta                  198\n",
       "Jawa Timur                   139\n",
       "Sumatera Selatan             120\n",
       "Riau                         114\n",
       "Sumatera Utara                81\n",
       "Sulawesi Selatan              74\n",
       "Sumatera Barat                69\n",
       "Jawa Barat                    68\n",
       "Bengkulu                      67\n",
       "Lampung                       58\n",
       "Kalimantan Tengah             53\n",
       "Jawa Tengah                   51\n",
       "Kalimantan Selatan            50\n",
       "Sulawesi Utara                49\n",
       "Kalimantan Timur              42\n",
       "Banten                        41\n",
       "Bali                          41\n",
       "Jambi                         36\n",
       "Aceh                          35\n",
       "Nusa Tenggara Barat           26\n",
       "DI Yogyakarta                 25\n",
       "Sulawesi Tenggara             25\n",
       "Gorontalo                     24\n",
       "Kalimantan Barat              20\n",
       "Sulawesi Tengah               18\n",
       "Kepulauan Bangka Belitung     17\n",
       "Papua                         12\n",
       "Maluku                        12\n",
       "Sulawesi Barat                 9\n",
       "Maluku Utara                   7\n",
       "Papua Barat                    6\n",
       "Kalimantan Utara               5\n",
       "Nusa Tenggara Timur            3\n",
       "Name: Nama Media, dtype: int64"
      ]
     },
     "execution_count": 11,
     "metadata": {},
     "output_type": "execute_result"
    }
   ],
   "source": [
    "ppers.groupby(['Provinsi'])['Nama Media'].count().sort_values(ascending=False)"
   ]
  },
  {
   "cell_type": "code",
   "execution_count": 12,
   "metadata": {},
   "outputs": [
    {
     "data": {
      "text/plain": [
       "<AxesSubplot:xlabel='Provinsi'>"
      ]
     },
     "execution_count": 12,
     "metadata": {},
     "output_type": "execute_result"
    },
    {
     "data": {
      "image/png": "[encoded data removed]",
      "text/plain": [
       "<Figure size 432x288 with 1 Axes>"
      ]
     },
     "metadata": {},
     "output_type": "display_data"
    }
   ],
   "source": [
    "by_provinsi['Nama Media'].count().sort_values(ascending=False).plot.bar()"
   ]
  },
  {
   "cell_type": "code",
   "execution_count": 13,
   "metadata": {},
   "outputs": [
    {
     "data": {
      "text/plain": [
       "<AxesSubplot:xlabel='Jenis Media'>"
      ]
     },
     "execution_count": 13,
     "metadata": {},
     "output_type": "execute_result"
    },
    {
     "data": {
      "image/png": "[encoded data removed]",
      "text/plain": [
       "<Figure size 432x288 with 1 Axes>"
      ]
     },
     "metadata": {},
     "output_type": "display_data"
    }
   ],
   "source": [
    "ppers.groupby(['Jenis Media'])['Nama Media'].count().sort_values(ascending=False).plot.bar()"
   ]
  },
  {
   "cell_type": "code",
   "execution_count": 14,
   "metadata": {},
   "outputs": [
    {
     "data": {
      "text/plain": [
       "Status\n",
       "Terverifikasi Administratif dan Faktual    1018\n",
       "Terverifikasi Administratif                 782\n",
       "Name: Nama Media, dtype: int64"
      ]
     },
     "execution_count": 14,
     "metadata": {},
     "output_type": "execute_result"
    }
   ],
   "source": [
    "ppers.groupby(['Status'])['Nama Media'].count().sort_values(ascending=False)"
   ]
  },
  {
   "cell_type": "code",
   "execution_count": 15,
   "metadata": {},
   "outputs": [
    {
     "data": {
      "text/plain": [
       "<AxesSubplot:ylabel='Nama Media'>"
      ]
     },
     "execution_count": 15,
     "metadata": {},
     "output_type": "execute_result"
    },
    {
     "data": {
      "image/png": "[encoded data removed]",
      "text/plain": [
       "<Figure size 432x288 with 1 Axes>"
      ]
     },
     "metadata": {},
     "output_type": "display_data"
    }
   ],
   "source": [
    "ppers.groupby(['Status'])['Nama Media'].count().sort_values(ascending=True).plot(kind='pie')"
   ]
  },
  {
   "cell_type": "code",
   "execution_count": 16,
   "metadata": {},
   "outputs": [
    {
     "data": {
      "text/plain": [
       "Badan Hukum\n",
       "PT                          616\n",
       "pt                           36\n",
       "Dua Satu Pro                  2\n",
       "Media Totabuan Indonesia      2\n",
       "PT.Riau Media Grafika         2\n",
       "                           ... \n",
       "MEDIA MATA BANGSA             1\n",
       "MEDIA MEDAN MANDIRI           1\n",
       "MEDIA PERJUANGAN BARU         1\n",
       "MEDIA SAMUDERA KEPRI          1\n",
       "sultra media cyber            1\n",
       "Name: Nama Media, Length: 1098, dtype: int64"
      ]
     },
     "execution_count": 16,
     "metadata": {},
     "output_type": "execute_result"
    }
   ],
   "source": [
    "ppers.groupby(['Badan Hukum'])['Nama Media'].count().sort_values(ascending=False)"
   ]
  },
  {
   "cell_type": "code",
   "execution_count": 17,
   "metadata": {},
   "outputs": [
    {
     "data": {
      "text/html": [
       "<div>\n",
       "<style scoped>\n",
       "    .dataframe tbody tr th:only-of-type {\n",
       "        vertical-align: middle;\n",
       "    }\n",
       "\n",
       "    .dataframe tbody tr th {\n",
       "        vertical-align: top;\n",
       "    }\n",
       "\n",
       "    .dataframe thead tr th {\n",
       "        text-align: left;\n",
       "    }\n",
       "</style>\n",
       "<table border=\"1\" class=\"dataframe\">\n",
       "  <thead>\n",
       "    <tr>\n",
       "      <th></th>\n",
       "      <th colspan=\"4\" halign=\"left\">Status</th>\n",
       "    </tr>\n",
       "    <tr>\n",
       "      <th>Jenis Media</th>\n",
       "      <th>Cetak</th>\n",
       "      <th>Radio</th>\n",
       "      <th>Siber</th>\n",
       "      <th>Televisi</th>\n",
       "    </tr>\n",
       "  </thead>\n",
       "  <tbody>\n",
       "    <tr>\n",
       "      <th>0</th>\n",
       "      <td>NaN</td>\n",
       "      <td>NaN</td>\n",
       "      <td>Terverifikasi Administratif dan Faktual</td>\n",
       "      <td>NaN</td>\n",
       "    </tr>\n",
       "    <tr>\n",
       "      <th>1</th>\n",
       "      <td>NaN</td>\n",
       "      <td>NaN</td>\n",
       "      <td>Terverifikasi Administratif dan Faktual</td>\n",
       "      <td>NaN</td>\n",
       "    </tr>\n",
       "    <tr>\n",
       "      <th>2</th>\n",
       "      <td>NaN</td>\n",
       "      <td>NaN</td>\n",
       "      <td>Terverifikasi Administratif dan Faktual</td>\n",
       "      <td>NaN</td>\n",
       "    </tr>\n",
       "    <tr>\n",
       "      <th>3</th>\n",
       "      <td>NaN</td>\n",
       "      <td>NaN</td>\n",
       "      <td>Terverifikasi Administratif dan Faktual</td>\n",
       "      <td>NaN</td>\n",
       "    </tr>\n",
       "    <tr>\n",
       "      <th>4</th>\n",
       "      <td>NaN</td>\n",
       "      <td>NaN</td>\n",
       "      <td>Terverifikasi Administratif dan Faktual</td>\n",
       "      <td>NaN</td>\n",
       "    </tr>\n",
       "    <tr>\n",
       "      <th>...</th>\n",
       "      <td>...</td>\n",
       "      <td>...</td>\n",
       "      <td>...</td>\n",
       "      <td>...</td>\n",
       "    </tr>\n",
       "    <tr>\n",
       "      <th>1795</th>\n",
       "      <td>NaN</td>\n",
       "      <td>NaN</td>\n",
       "      <td>Terverifikasi Administratif dan Faktual</td>\n",
       "      <td>NaN</td>\n",
       "    </tr>\n",
       "    <tr>\n",
       "      <th>1796</th>\n",
       "      <td>Terverifikasi Administratif dan Faktual</td>\n",
       "      <td>NaN</td>\n",
       "      <td>NaN</td>\n",
       "      <td>NaN</td>\n",
       "    </tr>\n",
       "    <tr>\n",
       "      <th>1797</th>\n",
       "      <td>NaN</td>\n",
       "      <td>NaN</td>\n",
       "      <td>Terverifikasi Administratif dan Faktual</td>\n",
       "      <td>NaN</td>\n",
       "    </tr>\n",
       "    <tr>\n",
       "      <th>1798</th>\n",
       "      <td>Terverifikasi Administratif dan Faktual</td>\n",
       "      <td>NaN</td>\n",
       "      <td>NaN</td>\n",
       "      <td>NaN</td>\n",
       "    </tr>\n",
       "    <tr>\n",
       "      <th>1799</th>\n",
       "      <td>NaN</td>\n",
       "      <td>NaN</td>\n",
       "      <td>NaN</td>\n",
       "      <td>Terverifikasi Administratif dan Faktual</td>\n",
       "    </tr>\n",
       "  </tbody>\n",
       "</table>\n",
       "<p>1800 rows × 4 columns</p>\n",
       "</div>"
      ],
      "text/plain": [
       "                                              Status        \\\n",
       "Jenis Media                                    Cetak Radio   \n",
       "0                                                NaN   NaN   \n",
       "1                                                NaN   NaN   \n",
       "2                                                NaN   NaN   \n",
       "3                                                NaN   NaN   \n",
       "4                                                NaN   NaN   \n",
       "...                                              ...   ...   \n",
       "1795                                             NaN   NaN   \n",
       "1796         Terverifikasi Administratif dan Faktual   NaN   \n",
       "1797                                             NaN   NaN   \n",
       "1798         Terverifikasi Administratif dan Faktual   NaN   \n",
       "1799                                             NaN   NaN   \n",
       "\n",
       "                                                      \\\n",
       "Jenis Media                                    Siber   \n",
       "0            Terverifikasi Administratif dan Faktual   \n",
       "1            Terverifikasi Administratif dan Faktual   \n",
       "2            Terverifikasi Administratif dan Faktual   \n",
       "3            Terverifikasi Administratif dan Faktual   \n",
       "4            Terverifikasi Administratif dan Faktual   \n",
       "...                                              ...   \n",
       "1795         Terverifikasi Administratif dan Faktual   \n",
       "1796                                             NaN   \n",
       "1797         Terverifikasi Administratif dan Faktual   \n",
       "1798                                             NaN   \n",
       "1799                                             NaN   \n",
       "\n",
       "                                                      \n",
       "Jenis Media                                 Televisi  \n",
       "0                                                NaN  \n",
       "1                                                NaN  \n",
       "2                                                NaN  \n",
       "3                                                NaN  \n",
       "4                                                NaN  \n",
       "...                                              ...  \n",
       "1795                                             NaN  \n",
       "1796                                             NaN  \n",
       "1797                                             NaN  \n",
       "1798                                             NaN  \n",
       "1799         Terverifikasi Administratif dan Faktual  \n",
       "\n",
       "[1800 rows x 4 columns]"
      ]
     },
     "execution_count": 17,
     "metadata": {},
     "output_type": "execute_result"
    }
   ],
   "source": [
    "ppers.pivot(columns=['Jenis Media'], values=['Status'])"
   ]
  },
  {
   "cell_type": "markdown",
   "metadata": {},
   "source": [
    "## Sertifikasi Wartawan"
   ]
  },
  {
   "cell_type": "code",
   "execution_count": 18,
   "metadata": {},
   "outputs": [],
   "source": [
    "# %matplotlib widget\n",
    "import matplotlib.pyplot as plt"
   ]
  },
  {
   "cell_type": "code",
   "execution_count": 19,
   "metadata": {},
   "outputs": [
    {
     "name": "stdout",
     "output_type": "stream",
     "text": [
      "<class 'pandas.core.frame.DataFrame'>\n",
      "RangeIndex: 19958 entries, 0 to 19957\n",
      "Data columns (total 7 columns):\n",
      " #   Column            Non-Null Count  Dtype \n",
      "---  ------            --------------  ----- \n",
      " 0   #                 19958 non-null  int64 \n",
      " 1   Nama Wartawan     19958 non-null  object\n",
      " 2   Nama Media        19359 non-null  object\n",
      " 3   Nomor Sertifikat  19958 non-null  object\n",
      " 4   Lembaga Uji       19958 non-null  object\n",
      " 5   Jenjang           19958 non-null  object\n",
      " 6   Provinsi          19925 non-null  object\n",
      "dtypes: int64(1), object(6)\n",
      "memory usage: 1.1+ MB\n"
     ]
    }
   ],
   "source": [
    "sert_df = pd.read_csv('./data/dewan-pers/sertifikasi_wartawan.csv', index_col=False,\n",
    "                      usecols=['#', 'Nama Wartawan', 'Nama Media', 'Nomor Sertifikat',\n",
    "                               'Lembaga Uji', 'Jenjang', 'Provinsi'])\n",
    "sert_df.info()"
   ]
  },
  {
   "cell_type": "code",
   "execution_count": 20,
   "metadata": {},
   "outputs": [
    {
     "data": {
      "text/html": [
       "<div>\n",
       "<style scoped>\n",
       "    .dataframe tbody tr th:only-of-type {\n",
       "        vertical-align: middle;\n",
       "    }\n",
       "\n",
       "    .dataframe tbody tr th {\n",
       "        vertical-align: top;\n",
       "    }\n",
       "\n",
       "    .dataframe thead th {\n",
       "        text-align: right;\n",
       "    }\n",
       "</style>\n",
       "<table border=\"1\" class=\"dataframe\">\n",
       "  <thead>\n",
       "    <tr style=\"text-align: right;\">\n",
       "      <th></th>\n",
       "      <th>#</th>\n",
       "      <th>Nama Wartawan</th>\n",
       "      <th>Nama Media</th>\n",
       "      <th>Nomor Sertifikat</th>\n",
       "      <th>Lembaga Uji</th>\n",
       "      <th>Jenjang</th>\n",
       "      <th>Provinsi</th>\n",
       "    </tr>\n",
       "  </thead>\n",
       "  <tbody>\n",
       "    <tr>\n",
       "      <th>19955</th>\n",
       "      <td>19962</td>\n",
       "      <td>Yaumil Azis</td>\n",
       "      <td>dream.co.id</td>\n",
       "      <td>20470-FIKOM UPDM(B)/Wda/DP/XI/2021/29/01/93</td>\n",
       "      <td>Jurusan/Program Studi ilmu Komunikasi Universi...</td>\n",
       "      <td>wartawan muda</td>\n",
       "      <td>Jawa Timur</td>\n",
       "    </tr>\n",
       "    <tr>\n",
       "      <th>19956</th>\n",
       "      <td>19963</td>\n",
       "      <td>Yoga Tri Priyanto</td>\n",
       "      <td>dream.co.id</td>\n",
       "      <td>20471-FIKOM UPDM(B)/Wda/DP/XI/2021/11/06/90</td>\n",
       "      <td>Jurusan/Program Studi ilmu Komunikasi Universi...</td>\n",
       "      <td>wartawan muda</td>\n",
       "      <td>Jawa Timur</td>\n",
       "    </tr>\n",
       "    <tr>\n",
       "      <th>19957</th>\n",
       "      <td>19964</td>\n",
       "      <td>I Gusti Ngurah Dibia</td>\n",
       "      <td>diksimerdeka.com</td>\n",
       "      <td>6131-PWI/WU/DP/V/2021/12/01/70</td>\n",
       "      <td>PWI</td>\n",
       "      <td>wartawan utama</td>\n",
       "      <td>Bali</td>\n",
       "    </tr>\n",
       "  </tbody>\n",
       "</table>\n",
       "</div>"
      ],
      "text/plain": [
       "           #         Nama Wartawan        Nama Media  \\\n",
       "19955  19962           Yaumil Azis       dream.co.id   \n",
       "19956  19963     Yoga Tri Priyanto       dream.co.id   \n",
       "19957  19964  I Gusti Ngurah Dibia  diksimerdeka.com   \n",
       "\n",
       "                                  Nomor Sertifikat  \\\n",
       "19955  20470-FIKOM UPDM(B)/Wda/DP/XI/2021/29/01/93   \n",
       "19956  20471-FIKOM UPDM(B)/Wda/DP/XI/2021/11/06/90   \n",
       "19957               6131-PWI/WU/DP/V/2021/12/01/70   \n",
       "\n",
       "                                             Lembaga Uji         Jenjang  \\\n",
       "19955  Jurusan/Program Studi ilmu Komunikasi Universi...   wartawan muda   \n",
       "19956  Jurusan/Program Studi ilmu Komunikasi Universi...   wartawan muda   \n",
       "19957                                                PWI  wartawan utama   \n",
       "\n",
       "         Provinsi  \n",
       "19955  Jawa Timur  \n",
       "19956  Jawa Timur  \n",
       "19957        Bali  "
      ]
     },
     "execution_count": 20,
     "metadata": {},
     "output_type": "execute_result"
    }
   ],
   "source": [
    "sert_df.tail(3)"
   ]
  },
  {
   "cell_type": "code",
   "execution_count": 21,
   "metadata": {},
   "outputs": [
    {
     "data": {
      "text/plain": [
       "array(['madya', 'muda', 'utama', 'v'], dtype=object)"
      ]
     },
     "execution_count": 21,
     "metadata": {},
     "output_type": "execute_result"
    }
   ],
   "source": [
    "sert_df['Jenjang'] = sert_df['Jenjang'].str.lower().str.replace('wartawan ', '')\n",
    "sert_df['Jenjang'].unique()"
   ]
  },
  {
   "cell_type": "code",
   "execution_count": 22,
   "metadata": {},
   "outputs": [
    {
     "data": {
      "text/plain": [
       "muda     12100\n",
       "utama     3944\n",
       "madya     3913\n",
       "v            1\n",
       "Name: Jenjang, dtype: int64"
      ]
     },
     "execution_count": 22,
     "metadata": {},
     "output_type": "execute_result"
    }
   ],
   "source": [
    "sert_df['Jenjang'].value_counts()"
   ]
  },
  {
   "cell_type": "code",
   "execution_count": 23,
   "metadata": {},
   "outputs": [
    {
     "name": "stderr",
     "output_type": "stream",
     "text": [
      "C:\\Users\\niam\\AppData\\Local\\Temp\\ipykernel_4196\\1099496385.py:5: FutureWarning: The default value of regex will change from True to False in a future version.\n",
      "  sert_df['Provinsi'] = sert_df['Provinsi'].str.replace('Medan', 'Sumatera Utara').str.replace('Waspada.co.id', 'Sumatera Utara')\n"
     ]
    },
    {
     "data": {
      "text/plain": [
       "array(['Sumatera Selatan', 'DI Yogyakarta', 'Kalimantan Utara',\n",
       "       'Jawa Timur', 'Jawa Tengah', 'Jawa Barat', 'Bengkulu',\n",
       "       'Sulawesi Utara', 'Riau', 'DKI Jakarta', 'Sumatera Barat',\n",
       "       'Kalimantan Selatan', 'Sulawesi Tenggara', 'Lampung',\n",
       "       'Sumatera Utara', 'Sulawesi Selatan', 'Kalimantan Timur',\n",
       "       'Kalimantan Tengah', 'Bali', 'Papua', 'Aceh', 'Sulawesi Tengah',\n",
       "       'Nusa Tenggara Timur', 'Sulawesi Barat', 'Nusa Tenggara Barat',\n",
       "       'Kalimantan Barat', 'Kepulauan Riau', 'Jambi', 'Banten', nan,\n",
       "       'Kepulauan Bangka Belitung', 'Maluku', 'Papua Barat', 'Gorontalo',\n",
       "       'Maluku Utara', ''], dtype=object)"
      ]
     },
     "execution_count": 23,
     "metadata": {},
     "output_type": "execute_result"
    }
   ],
   "source": [
    "sert_df['Provinsi'] = sert_df['Provinsi'].str.replace('Surakarta', 'Jawa Tengah').str.replace('Solo', 'Jawa Tengah')\n",
    "sert_df['Provinsi'] = sert_df['Provinsi'].str.replace('DKI Jakarta', 'Jakarta').str.replace('Jakarta', 'DKI Jakarta')\n",
    "sert_df['Provinsi'] = sert_df['Provinsi'].str.replace('Palembang', 'Sumatera Selatan').str.replace('Sumatra Selatan', 'Sumatera Selatan')\n",
    "sert_df['Provinsi'] = sert_df['Provinsi'].str.replace('Pekanbaru', 'Riau').str.replace('Turkey', '')\n",
    "sert_df['Provinsi'] = sert_df['Provinsi'].str.replace('Medan', 'Sumatera Utara').str.replace('Waspada.co.id', 'Sumatera Utara')\n",
    "sert_df['Provinsi'] = sert_df['Provinsi'].str.replace('DI Yogyakarta', 'Yogyakarta').str.replace('Yogyakarta', 'DI Yogyakarta')\n",
    "sert_df['Provinsi'] = sert_df['Provinsi'].str.replace('Kepulauan Bangka Belitung', 'Bangka Belitung').str.replace('Bangka Belitung', 'Kepulauan Bangka Belitung')\n",
    "sert_df['Provinsi'] = sert_df['Provinsi'].str.replace('Maluku Tenggara Barat', 'Maluku')\n",
    "\n",
    "sert_df['Provinsi'].unique()"
   ]
  },
  {
   "cell_type": "code",
   "execution_count": 24,
   "metadata": {},
   "outputs": [
    {
     "data": {
      "text/plain": [
       "36"
      ]
     },
     "execution_count": 24,
     "metadata": {},
     "output_type": "execute_result"
    }
   ],
   "source": [
    "len(sert_df['Provinsi'].unique())"
   ]
  },
  {
   "cell_type": "code",
   "execution_count": 25,
   "metadata": {},
   "outputs": [
    {
     "data": {
      "text/plain": [
       "DKI Jakarta                  3521\n",
       "Jawa Timur                   1834\n",
       "Jawa Barat                   1442\n",
       "Jawa Tengah                  1198\n",
       "Sumatera Utara                992\n",
       "Lampung                       912\n",
       "Sumatera Selatan              765\n",
       "Riau                          725\n",
       "Sulawesi Selatan              715\n",
       "Kalimantan Timur              616\n",
       "Kepulauan Riau                581\n",
       "Sumatera Barat                577\n",
       "Banten                        544\n",
       "Sulawesi Utara                521\n",
       "Aceh                          501\n",
       "Bali                          455\n",
       "Bengkulu                      433\n",
       "DI Yogyakarta                 416\n",
       "Kalimantan Tengah             408\n",
       "Kalimantan Selatan            369\n",
       "Papua                         314\n",
       "Jambi                         287\n",
       "Nusa Tenggara Barat           247\n",
       "Sulawesi Tengah               229\n",
       "Sulawesi Tenggara             211\n",
       "Kepulauan Bangka Belitung     207\n",
       "Maluku Utara                  168\n",
       "Kalimantan Barat              159\n",
       "Papua Barat                   147\n",
       "Nusa Tenggara Timur           120\n",
       "Maluku                        118\n",
       "Gorontalo                      88\n",
       "Sulawesi Barat                 78\n",
       "Kalimantan Utara               26\n",
       "                                1\n",
       "Name: Provinsi, dtype: int64"
      ]
     },
     "execution_count": 25,
     "metadata": {},
     "output_type": "execute_result"
    }
   ],
   "source": [
    "sert_df['Provinsi'].value_counts()"
   ]
  },
  {
   "cell_type": "code",
   "execution_count": 26,
   "metadata": {},
   "outputs": [
    {
     "data": {
      "text/plain": [
       "<AxesSubplot:>"
      ]
     },
     "execution_count": 26,
     "metadata": {},
     "output_type": "execute_result"
    },
    {
     "data": {
      "application/vnd.jupyter.widget-view+json": {
       "model_id": "8cc480bf533a49a9baefee093cf06069",
       "version_major": 2,
       "version_minor": 0
      },
      "image/png": "[encoded data removed]",
      "text/html": [
       "\n",
       "            <div style=\"display: inline-block;\">\n",
       "                <div class=\"jupyter-widgets widget-label\" style=\"text-align: center;\">\n",
       "                    Figure\n",
       "                </div>\n",
       "                <img src='data:image/png;base64,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' width=432.0/>\n",
       "            </div>\n",
       "        "
      ],
      "text/plain": [
       "Canvas(toolbar=Toolbar(toolitems=[('Home', 'Reset original view', 'home', 'home'), ('Back', 'Back to previous …"
      ]
     },
     "metadata": {},
     "output_type": "display_data"
    }
   ],
   "source": [
    "sert_df['Provinsi'].value_counts().plot.bar()"
   ]
  },
  {
   "cell_type": "code",
   "execution_count": 27,
   "metadata": {},
   "outputs": [
    {
     "data": {
      "text/plain": [
       "array(['Persatuan Wartawan Indonesia (PWI)', 'Lembaga Pers Dr. Soetomo',\n",
       "       'Fikom, Universitas Profesor DR. Moestopo (Beragama)',\n",
       "       'UPN (Veteran) Yogyakarta', 'PWI',\n",
       "       'Lembaga Pendidikan London School (Prog. Studi Ilmu Komunikasi) Jakarta',\n",
       "       'Solopos', 'LKBN Antara',\n",
       "       'Lembaga UKW Universitas Dr. Soetomo (UNITOMO)', 'AJI', 'ANTV',\n",
       "       'IJTI', 'Bali Post',\n",
       "       'Lembaga Penyiaran Publik Radio Republik Indonesia (LPP RRI)',\n",
       "       'Ditetapkan Dewan Pers', 'LPDS', 'FIKOM UPDM(B)',\n",
       "       'Jurusan Program Studi Ilmu Komunikasi Jurnalistik Universitas Pembangunan Nasional Veteran Yogyakarta',\n",
       "       'Media Indonesia', 'TEMPO',\n",
       "       'Jurusan/Program Studi ilmu Komunikasi Universitas DR. Moestopo Beragama',\n",
       "       'PT. Media Nusantara Citra (MNC Group)',\n",
       "       'PT. Aksara Solopos (Solopos)',\n",
       "       'Universitas Prof. Dr. Moestopo (Beragama)',\n",
       "       'Aliansi Jurnalis Independen (AJI)', 'LKBN ANTARA',\n",
       "       'PT. Cakrawala Andalas Televisi (ANTV)', 'LSPR',\n",
       "       'Lembaga Kantor Berita Nasional ANTARA', 'Fajar', 'IISIP JAKARTA',\n",
       "       'RRI', 'PT. Kompas Media Nusantara (Kompas Group)',\n",
       "       'Prodi Ilmu Komunikasi FISIP UMJ',\n",
       "       'Jurusan/Program Studi Ilmu Komunikasi, Lembaga Pendidikan London School Public Relation'],\n",
       "      dtype=object)"
      ]
     },
     "execution_count": 27,
     "metadata": {},
     "output_type": "execute_result"
    }
   ],
   "source": [
    "sert_df['Lembaga Uji'].unique()"
   ]
  },
  {
   "cell_type": "code",
   "execution_count": 28,
   "metadata": {},
   "outputs": [
    {
     "data": {
      "text/plain": [
       "array(['Radar Palembang', 'Samudra News', 'Strateginews.co', ...,\n",
       "       'Aspirasi Pos', 'Brilio.net', 'diksimerdeka.com'], dtype=object)"
      ]
     },
     "execution_count": 28,
     "metadata": {},
     "output_type": "execute_result"
    }
   ],
   "source": [
    "sert_df['Nama Media'].unique()"
   ]
  },
  {
   "cell_type": "code",
   "execution_count": 29,
   "metadata": {},
   "outputs": [
    {
     "data": {
      "text/plain": [
       "4563"
      ]
     },
     "execution_count": 29,
     "metadata": {},
     "output_type": "execute_result"
    }
   ],
   "source": [
    "len(sert_df['Nama Media'].unique())"
   ]
  },
  {
   "cell_type": "code",
   "execution_count": 30,
   "metadata": {},
   "outputs": [
    {
     "data": {
      "text/plain": [
       "LKBN ANTARA           338\n",
       "RRI                   276\n",
       "Kompas                181\n",
       "kumparan              160\n",
       "Suara Merdeka         144\n",
       "                     ... \n",
       "T. Anusias              1\n",
       "Demokrasibabel.com      1\n",
       "Babelhits               1\n",
       "progresid.com           1\n",
       "diksimerdeka.com        1\n",
       "Name: Nama Media, Length: 4562, dtype: int64"
      ]
     },
     "execution_count": 30,
     "metadata": {},
     "output_type": "execute_result"
    }
   ],
   "source": [
    "sert_df['Nama Media'].value_counts().sort_values(ascending=False)"
   ]
  },
  {
   "cell_type": "markdown",
   "metadata": {},
   "source": [
    "## Lembaga Uji Kompetensi"
   ]
  },
  {
   "cell_type": "code",
   "execution_count": 31,
   "metadata": {},
   "outputs": [
    {
     "name": "stdout",
     "output_type": "stream",
     "text": [
      "<class 'pandas.core.frame.DataFrame'>\n",
      "RangeIndex: 30 entries, 0 to 29\n",
      "Data columns (total 5 columns):\n",
      " #   Column        Non-Null Count  Dtype \n",
      "---  ------        --------------  ----- \n",
      " 0   Nama Lembaga  30 non-null     object\n",
      " 1   Alamat        29 non-null     object\n",
      " 2   Provinsi      30 non-null     object\n",
      " 3   Keterangan    29 non-null     object\n",
      " 4   Status        30 non-null     object\n",
      "dtypes: object(5)\n",
      "memory usage: 1.3+ KB\n"
     ]
    }
   ],
   "source": [
    "uji_komp = pd.read_csv('./data/dewan-pers/lembaga_uji_kompetensi.csv', sep=';', index_col=False, na_values='NaN',\n",
    "                       usecols=['Nama Lembaga', 'Alamat', 'Provinsi', 'Keterangan', 'Status'])\n",
    "uji_komp.info()"
   ]
  },
  {
   "cell_type": "code",
   "execution_count": 32,
   "metadata": {},
   "outputs": [
    {
     "data": {
      "text/html": [
       "<div>\n",
       "<style scoped>\n",
       "    .dataframe tbody tr th:only-of-type {\n",
       "        vertical-align: middle;\n",
       "    }\n",
       "\n",
       "    .dataframe tbody tr th {\n",
       "        vertical-align: top;\n",
       "    }\n",
       "\n",
       "    .dataframe thead th {\n",
       "        text-align: right;\n",
       "    }\n",
       "</style>\n",
       "<table border=\"1\" class=\"dataframe\">\n",
       "  <thead>\n",
       "    <tr style=\"text-align: right;\">\n",
       "      <th></th>\n",
       "      <th>Nama Lembaga</th>\n",
       "      <th>Alamat</th>\n",
       "      <th>Provinsi</th>\n",
       "      <th>Keterangan</th>\n",
       "      <th>Status</th>\n",
       "    </tr>\n",
       "  </thead>\n",
       "  <tbody>\n",
       "    <tr>\n",
       "      <th>0</th>\n",
       "      <td>Lembaga Kantor Berita Nasional ANTARA</td>\n",
       "      <td>Wisma ANTARA Lantai 18-20Jalan Medan Merdeka S...</td>\n",
       "      <td>DKI Jakarta</td>\n",
       "      <td>Lembaga Uji</td>\n",
       "      <td>Ditetapkan 9 September 2011</td>\n",
       "    </tr>\n",
       "    <tr>\n",
       "      <th>1</th>\n",
       "      <td>Lembaga Penyiaran Publik Radio Republik Indone...</td>\n",
       "      <td>Jl. Medan Merdeka Barat 4-5 Jakarta 10270, Ind...</td>\n",
       "      <td>DKI Jakarta</td>\n",
       "      <td>Lembaga Uji</td>\n",
       "      <td>Ditetapkan 9 September 2011</td>\n",
       "    </tr>\n",
       "  </tbody>\n",
       "</table>\n",
       "</div>"
      ],
      "text/plain": [
       "                                        Nama Lembaga  \\\n",
       "0              Lembaga Kantor Berita Nasional ANTARA   \n",
       "1  Lembaga Penyiaran Publik Radio Republik Indone...   \n",
       "\n",
       "                                              Alamat     Provinsi  \\\n",
       "0  Wisma ANTARA Lantai 18-20Jalan Medan Merdeka S...  DKI Jakarta   \n",
       "1  Jl. Medan Merdeka Barat 4-5 Jakarta 10270, Ind...  DKI Jakarta   \n",
       "\n",
       "    Keterangan                       Status  \n",
       "0  Lembaga Uji  Ditetapkan 9 September 2011  \n",
       "1  Lembaga Uji  Ditetapkan 9 September 2011  "
      ]
     },
     "execution_count": 32,
     "metadata": {},
     "output_type": "execute_result"
    }
   ],
   "source": [
    "uji_komp.head(2)"
   ]
  },
  {
   "cell_type": "code",
   "execution_count": 33,
   "metadata": {},
   "outputs": [
    {
     "data": {
      "text/html": [
       "<div>\n",
       "<style scoped>\n",
       "    .dataframe tbody tr th:only-of-type {\n",
       "        vertical-align: middle;\n",
       "    }\n",
       "\n",
       "    .dataframe tbody tr th {\n",
       "        vertical-align: top;\n",
       "    }\n",
       "\n",
       "    .dataframe thead th {\n",
       "        text-align: right;\n",
       "    }\n",
       "</style>\n",
       "<table border=\"1\" class=\"dataframe\">\n",
       "  <thead>\n",
       "    <tr style=\"text-align: right;\">\n",
       "      <th></th>\n",
       "      <th>Nama Lembaga</th>\n",
       "      <th>Alamat</th>\n",
       "      <th>Provinsi</th>\n",
       "      <th>Keterangan</th>\n",
       "      <th>Status</th>\n",
       "    </tr>\n",
       "  </thead>\n",
       "  <tbody>\n",
       "    <tr>\n",
       "      <th>28</th>\n",
       "      <td>Lembaga UKW Universitas Dr. Soetomo (UNITOMO)</td>\n",
       "      <td>Jalan Semolowaru No.84 Surabaya 60118</td>\n",
       "      <td>Jawa Timur</td>\n",
       "      <td>Lembaga UKW</td>\n",
       "      <td>SK Dewan Pers nomor: 20/SK-DP/V/2021</td>\n",
       "    </tr>\n",
       "    <tr>\n",
       "      <th>29</th>\n",
       "      <td>Pewarta Foto Indonesia (PFI)</td>\n",
       "      <td>Jl. Ampera Raya No.122A, RT.3/RW.10, Ragunan, ...</td>\n",
       "      <td>DKI Jakarta</td>\n",
       "      <td>Lembaga UKW</td>\n",
       "      <td>SK Dewan Pers Nomor 24/SK.DP/IV/2022 Tgl 27 Ap...</td>\n",
       "    </tr>\n",
       "  </tbody>\n",
       "</table>\n",
       "</div>"
      ],
      "text/plain": [
       "                                     Nama Lembaga  \\\n",
       "28  Lembaga UKW Universitas Dr. Soetomo (UNITOMO)   \n",
       "29                   Pewarta Foto Indonesia (PFI)   \n",
       "\n",
       "                                               Alamat     Provinsi  \\\n",
       "28              Jalan Semolowaru No.84 Surabaya 60118   Jawa Timur   \n",
       "29  Jl. Ampera Raya No.122A, RT.3/RW.10, Ragunan, ...  DKI Jakarta   \n",
       "\n",
       "     Keterangan                                             Status  \n",
       "28  Lembaga UKW               SK Dewan Pers nomor: 20/SK-DP/V/2021  \n",
       "29  Lembaga UKW  SK Dewan Pers Nomor 24/SK.DP/IV/2022 Tgl 27 Ap...  "
      ]
     },
     "execution_count": 33,
     "metadata": {},
     "output_type": "execute_result"
    }
   ],
   "source": [
    "uji_komp.tail(2)"
   ]
  },
  {
   "cell_type": "code",
   "execution_count": 34,
   "metadata": {},
   "outputs": [
    {
     "data": {
      "text/plain": [
       "array(['Lembaga Kantor Berita Nasional ANTARA',\n",
       "       'Lembaga Penyiaran Publik Radio Republik Indonesia (LPP RRI)',\n",
       "       'PT. Badan Penerbit Kedaulatan Rakyat (Kedaulatan Rakyat)',\n",
       "       'PT. Aksara Solopos (Solopos)', 'PT. Suara Nusa Mataram',\n",
       "       'PT. Penerbitan Harian Waspada (Waspada)',\n",
       "       'PT. Cakrawala Andalas Televisi (ANTV)',\n",
       "       'PT. Citra Media Nusa Purnama (Media Indonesia)',\n",
       "       'PT. Media Fajar (Fajar)',\n",
       "       'PT. Bina Media Tenggara (The Jakarta Post)',\n",
       "       'PT. Bali Post (Bali Post)',\n",
       "       'PT. Media Nusantara Citra (MNC Group)',\n",
       "       'PT. Tempo Inti Media (Tempo Group)',\n",
       "       'PT. Genta Singgalang Pres (Singgalang)',\n",
       "       'PT. Kompas Media Nusantara (Kompas Group)',\n",
       "       'PT. Pikiran Rakyat Bandung (Pikiran Rakyat)',\n",
       "       'PT. Wahana Ekonomi Semesta (Rakyat Merdeka)',\n",
       "       'PT. Jurnalindo Aksara Grafika (Bisnis Indonesia)',\n",
       "       'Ikatan Jurnalis Televisi Indonesia (IJTI)',\n",
       "       'Departemen Ilmu Komunikasi Fakultas Ilmu Sosial dan Ilmu Politik Universitas Indonesia',\n",
       "       'Institut Ilmu Sosial dan Ilmu Politik (IISIP) Jakarta',\n",
       "       'Jurusan Program Studi Ilmu Komunikasi Jurnalistik Universitas Pembangunan Nasional Veteran Yogyakarta',\n",
       "       'Jurusan/Program Studi Ilmu Komunikasi, Lembaga Pendidikan London School Public Relation',\n",
       "       'Jurusan/Program Studi ilmu Komunikasi Universitas DR. Moestopo Beragama',\n",
       "       'Persatuan Wartawan Indonesia (PWI)',\n",
       "       'Aliansi Jurnalis Independen (AJI)',\n",
       "       'Lembaga Pers Dr.Soetomo (Yayasan Pendidikan dan Multimedia Adinegoro)',\n",
       "       'Prodi Ilmu Komunikasi FISIP UMJ',\n",
       "       'Lembaga UKW Universitas Dr. Soetomo (UNITOMO)',\n",
       "       'Pewarta Foto Indonesia (PFI)'], dtype=object)"
      ]
     },
     "execution_count": 34,
     "metadata": {},
     "output_type": "execute_result"
    }
   ],
   "source": [
    "uji_komp['Nama Lembaga'].unique()"
   ]
  },
  {
   "cell_type": "code",
   "execution_count": 35,
   "metadata": {},
   "outputs": [
    {
     "data": {
      "text/plain": [
       "array(['DKI Jakarta', 'Yogyakarta', 'Jawa Tengah',\n",
       "       'Maluku Tenggara Barat', 'Sumatera Utara', 'Sulawesi Selatan',\n",
       "       'Bali', 'Sumatera Barat', 'Jawa Barat', 'Banten', 'Jawa Timur'],\n",
       "      dtype=object)"
      ]
     },
     "execution_count": 35,
     "metadata": {},
     "output_type": "execute_result"
    }
   ],
   "source": [
    "uji_komp['Provinsi'].unique()"
   ]
  },
  {
   "cell_type": "code",
   "execution_count": 36,
   "metadata": {},
   "outputs": [
    {
     "data": {
      "text/plain": [
       "<AxesSubplot:>"
      ]
     },
     "execution_count": 36,
     "metadata": {},
     "output_type": "execute_result"
    },
    {
     "data": {
      "application/vnd.jupyter.widget-view+json": {
       "model_id": "8cc480bf533a49a9baefee093cf06069",
       "version_major": 2,
       "version_minor": 0
      },
      "image/png": "[encoded data removed]",
      "text/html": [
       "\n",
       "            <div style=\"display: inline-block;\">\n",
       "                <div class=\"jupyter-widgets widget-label\" style=\"text-align: center;\">\n",
       "                    Figure 1\n",
       "                </div>\n",
       "                <img src='data:image/png;base64,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' width=432.0/>\n",
       "            </div>\n",
       "        "
      ],
      "text/plain": [
       "Canvas(toolbar=Toolbar(toolitems=[('Home', 'Reset original view', 'home', 'home'), ('Back', 'Back to previous …"
      ]
     },
     "metadata": {},
     "output_type": "display_data"
    }
   ],
   "source": [
    "uji_komp['Provinsi'].value_counts().sort_values(ascending=False).plot.bar()"
   ]
  },
  {
   "cell_type": "code",
   "execution_count": 45,
   "metadata": {},
   "outputs": [
    {
     "data": {
      "text/plain": [
       "array(['Lembaga Uji', nan, 'Lembaga UKW'], dtype=object)"
      ]
     },
     "execution_count": 45,
     "metadata": {},
     "output_type": "execute_result"
    }
   ],
   "source": [
    "uji_komp['Keterangan'].unique()"
   ]
  },
  {
   "cell_type": "code",
   "execution_count": null,
   "metadata": {},
   "outputs": [],
   "source": []
  }
 ],
 "metadata": {
  "kernelspec": {
   "display_name": "Python 3",
   "language": "python",
   "name": "python3"
  },
  "language_info": {
   "codemirror_mode": {
    "name": "ipython",
    "version": 3
   },
   "file_extension": ".py",
   "mimetype": "text/x-python",
   "name": "python",
   "nbconvert_exporter": "python",
   "pygments_lexer": "ipython3",
   "version": "3.8.3"
  },
  "orig_nbformat": 4,
  "vscode": {
   "interpreter": {
    "hash": "9650cb4e16cdd4a8e8e2d128bf38d875813998db22a3c986335f89e0cb4d7bb2"
   }
  }
 },
 "nbformat": 4,
 "nbformat_minor": 2
}
