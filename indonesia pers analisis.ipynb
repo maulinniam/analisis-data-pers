{
 "cells": [
  {
   "cell_type": "code",
   "execution_count": 58,
   "metadata": {},
   "outputs": [],
   "source": [
    "from pandas_bokeh import pd, plot"
   ]
  },
  {
   "cell_type": "markdown",
   "metadata": {},
   "source": [
    "## Perusahaan Pers"
   ]
  },
  {
   "cell_type": "code",
   "execution_count": 4,
   "metadata": {},
   "outputs": [],
   "source": [
    "ppers = pd.read_csv('data/perusahaan_pers.csv', \n",
    "                    usecols=['No', 'Nama Media', 'Jenis Media', 'Penanggung Jawab', 'Pemimpin Redaksi',\n",
    "                             'Badan Hukum', 'Provinsi', 'Alamat', 'Telp', 'Email', 'Website', 'Status',\n",
    "                             'User Status Certificate Date'])"
   ]
  },
  {
   "cell_type": "code",
   "execution_count": 14,
   "metadata": {},
   "outputs": [
    {
     "name": "stdout",
     "output_type": "stream",
     "text": [
      "<class 'pandas.core.frame.DataFrame'>\n",
      "RangeIndex: 1800 entries, 0 to 1799\n",
      "Data columns (total 13 columns):\n",
      " #   Column                        Non-Null Count  Dtype \n",
      "---  ------                        --------------  ----- \n",
      " 0   No                            1800 non-null   int64 \n",
      " 1   Nama Media                    1800 non-null   object\n",
      " 2   Jenis Media                   1800 non-null   object\n",
      " 3   Penanggung Jawab              1183 non-null   object\n",
      " 4   Pemimpin Redaksi              1183 non-null   object\n",
      " 5   Badan Hukum                   1797 non-null   object\n",
      " 6   Provinsi                      1799 non-null   object\n",
      " 7   Alamat                        1773 non-null   object\n",
      " 8   Telp                          1499 non-null   object\n",
      " 9   Email                         1438 non-null   object\n",
      " 10  Website                       1326 non-null   object\n",
      " 11  Status                        1800 non-null   object\n",
      " 12  User Status Certificate Date  1800 non-null   object\n",
      "dtypes: int64(1), object(12)\n",
      "memory usage: 182.9+ KB\n"
     ]
    }
   ],
   "source": [
    "ppers.info()"
   ]
  },
  {
   "cell_type": "code",
   "execution_count": 5,
   "metadata": {},
   "outputs": [
    {
     "data": {
      "text/html": [
       "<div>\n",
       "<style scoped>\n",
       "    .dataframe tbody tr th:only-of-type {\n",
       "        vertical-align: middle;\n",
       "    }\n",
       "\n",
       "    .dataframe tbody tr th {\n",
       "        vertical-align: top;\n",
       "    }\n",
       "\n",
       "    .dataframe thead th {\n",
       "        text-align: right;\n",
       "    }\n",
       "</style>\n",
       "<table border=\"1\" class=\"dataframe\">\n",
       "  <thead>\n",
       "    <tr style=\"text-align: right;\">\n",
       "      <th></th>\n",
       "      <th>No</th>\n",
       "      <th>Nama Media</th>\n",
       "      <th>Jenis Media</th>\n",
       "      <th>Penanggung Jawab</th>\n",
       "      <th>Pemimpin Redaksi</th>\n",
       "      <th>Badan Hukum</th>\n",
       "      <th>Provinsi</th>\n",
       "      <th>Alamat</th>\n",
       "      <th>Telp</th>\n",
       "      <th>Email</th>\n",
       "      <th>Website</th>\n",
       "      <th>Status</th>\n",
       "      <th>User Status Certificate Date</th>\n",
       "    </tr>\n",
       "  </thead>\n",
       "  <tbody>\n",
       "    <tr>\n",
       "      <th>0</th>\n",
       "      <td>1</td>\n",
       "      <td>Bolmongraya.co</td>\n",
       "      <td>Siber</td>\n",
       "      <td>Asrar Jusuf</td>\n",
       "      <td>Asrar Jusuf</td>\n",
       "      <td>Media Bolmong Raya</td>\n",
       "      <td>Sulawesi Utara</td>\n",
       "      <td>Jl AP Mokoginta, Desa Pontodon, Kota Kotamobag...</td>\n",
       "      <td>08114317460</td>\n",
       "      <td>Bolmongraya99@gmail.com</td>\n",
       "      <td>https://bolmongraya.co</td>\n",
       "      <td>Terverifikasi Administratif dan Faktual</td>\n",
       "      <td>2022-06-23</td>\n",
       "    </tr>\n",
       "    <tr>\n",
       "      <th>1</th>\n",
       "      <td>2</td>\n",
       "      <td>Bolmongpost.com</td>\n",
       "      <td>Siber</td>\n",
       "      <td>Satrin Lasama`</td>\n",
       "      <td>Satrin Lasama`</td>\n",
       "      <td>Bolmong Post Cipta Parasana</td>\n",
       "      <td>Sulawesi Utara</td>\n",
       "      <td>Jalan Diponegoro, Kelurahan Biga, Kecamatan Ko...</td>\n",
       "      <td>0811434886 -085299938086</td>\n",
       "      <td>redaksibolmongpost@gmail.com</td>\n",
       "      <td>www.bolmongpost.com</td>\n",
       "      <td>Terverifikasi Administratif dan Faktual</td>\n",
       "      <td>2022-06-23</td>\n",
       "    </tr>\n",
       "  </tbody>\n",
       "</table>\n",
       "</div>"
      ],
      "text/plain": [
       "   No       Nama Media Jenis Media Penanggung Jawab Pemimpin Redaksi  \\\n",
       "0   1   Bolmongraya.co       Siber      Asrar Jusuf      Asrar Jusuf   \n",
       "1   2  Bolmongpost.com       Siber   Satrin Lasama`   Satrin Lasama`   \n",
       "\n",
       "                   Badan Hukum        Provinsi  \\\n",
       "0           Media Bolmong Raya  Sulawesi Utara   \n",
       "1  Bolmong Post Cipta Parasana  Sulawesi Utara   \n",
       "\n",
       "                                              Alamat  \\\n",
       "0  Jl AP Mokoginta, Desa Pontodon, Kota Kotamobag...   \n",
       "1  Jalan Diponegoro, Kelurahan Biga, Kecamatan Ko...   \n",
       "\n",
       "                       Telp                         Email  \\\n",
       "0               08114317460       Bolmongraya99@gmail.com   \n",
       "1  0811434886 -085299938086  redaksibolmongpost@gmail.com   \n",
       "\n",
       "                  Website                                   Status  \\\n",
       "0  https://bolmongraya.co  Terverifikasi Administratif dan Faktual   \n",
       "1     www.bolmongpost.com  Terverifikasi Administratif dan Faktual   \n",
       "\n",
       "  User Status Certificate Date  \n",
       "0                   2022-06-23  \n",
       "1                   2022-06-23  "
      ]
     },
     "execution_count": 5,
     "metadata": {},
     "output_type": "execute_result"
    }
   ],
   "source": [
    "ppers.head(2)"
   ]
  },
  {
   "cell_type": "code",
   "execution_count": 16,
   "metadata": {},
   "outputs": [
    {
     "data": {
      "text/html": [
       "<div>\n",
       "<style scoped>\n",
       "    .dataframe tbody tr th:only-of-type {\n",
       "        vertical-align: middle;\n",
       "    }\n",
       "\n",
       "    .dataframe tbody tr th {\n",
       "        vertical-align: top;\n",
       "    }\n",
       "\n",
       "    .dataframe thead th {\n",
       "        text-align: right;\n",
       "    }\n",
       "</style>\n",
       "<table border=\"1\" class=\"dataframe\">\n",
       "  <thead>\n",
       "    <tr style=\"text-align: right;\">\n",
       "      <th></th>\n",
       "      <th>No</th>\n",
       "      <th>Nama Media</th>\n",
       "      <th>Jenis Media</th>\n",
       "      <th>Penanggung Jawab</th>\n",
       "      <th>Pemimpin Redaksi</th>\n",
       "      <th>Badan Hukum</th>\n",
       "      <th>Provinsi</th>\n",
       "      <th>Alamat</th>\n",
       "      <th>Telp</th>\n",
       "      <th>Email</th>\n",
       "      <th>Website</th>\n",
       "      <th>Status</th>\n",
       "      <th>User Status Certificate Date</th>\n",
       "    </tr>\n",
       "  </thead>\n",
       "  <tbody>\n",
       "    <tr>\n",
       "      <th>1797</th>\n",
       "      <td>1788</td>\n",
       "      <td>Riau24.com</td>\n",
       "      <td>Siber</td>\n",
       "      <td>NaN</td>\n",
       "      <td>NaN</td>\n",
       "      <td>PT</td>\n",
       "      <td>Riau</td>\n",
       "      <td>Perkantoran Grand Sudirman Blok D 18 Jl. Datuk...</td>\n",
       "      <td>085320004928</td>\n",
       "      <td>info@riau24.com</td>\n",
       "      <td>www.riau24.com</td>\n",
       "      <td>Terverifikasi Administrasi dan Faktual</td>\n",
       "      <td>2018-09-04</td>\n",
       "    </tr>\n",
       "    <tr>\n",
       "      <th>1798</th>\n",
       "      <td>1789</td>\n",
       "      <td>Luwuk Post</td>\n",
       "      <td>Cetak</td>\n",
       "      <td>NaN</td>\n",
       "      <td>NaN</td>\n",
       "      <td>PT</td>\n",
       "      <td>Sulawesi Tengah</td>\n",
       "      <td>Jl. Imam Bonjol Km3 No.4 Kec. Luwuk, Kab. Bang...</td>\n",
       "      <td>0461-325497</td>\n",
       "      <td>NaN</td>\n",
       "      <td>NaN</td>\n",
       "      <td>Terverifikasi Administrasi dan Faktual</td>\n",
       "      <td>2018-09-04</td>\n",
       "    </tr>\n",
       "    <tr>\n",
       "      <th>1799</th>\n",
       "      <td>1790</td>\n",
       "      <td>Kawanua Tv</td>\n",
       "      <td>Televisi</td>\n",
       "      <td>NaN</td>\n",
       "      <td>NaN</td>\n",
       "      <td>PT</td>\n",
       "      <td>Sulawesi Utara</td>\n",
       "      <td>Gedung Graha Pena Manado Post Lt. 3 Jl. Babe P...</td>\n",
       "      <td>0431-855558</td>\n",
       "      <td>kawanuatv.md@gmail.com</td>\n",
       "      <td>NaN</td>\n",
       "      <td>Terverifikasi Administrasi dan Faktual</td>\n",
       "      <td>2018-09-04</td>\n",
       "    </tr>\n",
       "  </tbody>\n",
       "</table>\n",
       "</div>"
      ],
      "text/plain": [
       "        No  Nama Media Jenis Media Penanggung Jawab Pemimpin Redaksi  \\\n",
       "1797  1788  Riau24.com       Siber              NaN              NaN   \n",
       "1798  1789  Luwuk Post       Cetak              NaN              NaN   \n",
       "1799  1790  Kawanua Tv    Televisi              NaN              NaN   \n",
       "\n",
       "     Badan Hukum         Provinsi  \\\n",
       "1797          PT             Riau   \n",
       "1798          PT  Sulawesi Tengah   \n",
       "1799          PT   Sulawesi Utara   \n",
       "\n",
       "                                                 Alamat          Telp  \\\n",
       "1797  Perkantoran Grand Sudirman Blok D 18 Jl. Datuk...  085320004928   \n",
       "1798  Jl. Imam Bonjol Km3 No.4 Kec. Luwuk, Kab. Bang...   0461-325497   \n",
       "1799  Gedung Graha Pena Manado Post Lt. 3 Jl. Babe P...   0431-855558   \n",
       "\n",
       "                       Email         Website  \\\n",
       "1797         info@riau24.com  www.riau24.com   \n",
       "1798                     NaN             NaN   \n",
       "1799  kawanuatv.md@gmail.com             NaN   \n",
       "\n",
       "                                      Status User Status Certificate Date  \n",
       "1797  Terverifikasi Administrasi dan Faktual                   2018-09-04  \n",
       "1798  Terverifikasi Administrasi dan Faktual                   2018-09-04  \n",
       "1799  Terverifikasi Administrasi dan Faktual                   2018-09-04  "
      ]
     },
     "execution_count": 16,
     "metadata": {},
     "output_type": "execute_result"
    }
   ],
   "source": [
    "ppers.tail(3)"
   ]
  },
  {
   "cell_type": "code",
   "execution_count": 7,
   "metadata": {},
   "outputs": [
    {
     "data": {
      "text/plain": [
       "array(['Sulawesi Utara', 'Sumatera Utara', 'Jawa Timur', 'Bengkulu',\n",
       "       'Sumatera Selatan', 'Banten', 'Lampung', 'Riau',\n",
       "       'Kalimantan Tengah', 'Kepulauan Riau', 'Jawa Barat',\n",
       "       'Kalimantan Barat', 'Sulawesi Selatan', 'Bali', 'DKI Jakarta',\n",
       "       'Sulawesi Tenggara', 'Jambi', 'Kalimantan Timur',\n",
       "       'Kalimantan Selatan', 'Sumatera Barat', 'Aceh', 'Jawa Tengah',\n",
       "       'Gorontalo', 'DI Yogyakarta', 'Sulawesi Tengah',\n",
       "       'Kepulauan Bangka Belitung', 'Maluku', 'Nusa Tenggara Barat',\n",
       "       'Kalimantan Utara', 'Nusa Tenggara Timur', 'Papua',\n",
       "       'Sulawesi Barat', 'Maluku Utara', 'Papua Barat', nan], dtype=object)"
      ]
     },
     "execution_count": 7,
     "metadata": {},
     "output_type": "execute_result"
    }
   ],
   "source": [
    "ppers['Provinsi'] = ppers['Provinsi'].str.replace('DKI Jakarta','Jakarta').replace('Jakarta','DKI Jakarta')\n",
    "ppers['Provinsi'] = ppers['Provinsi'].str.replace('Daerah Istimewa Jogjakarta','DI Yogyakarta')\n",
    "ppers['Provinsi'].unique()"
   ]
  },
  {
   "cell_type": "code",
   "execution_count": 8,
   "metadata": {},
   "outputs": [
    {
     "data": {
      "text/plain": [
       "35"
      ]
     },
     "execution_count": 8,
     "metadata": {},
     "output_type": "execute_result"
    }
   ],
   "source": [
    "len(ppers['Provinsi'].unique())"
   ]
  },
  {
   "cell_type": "code",
   "execution_count": 9,
   "metadata": {},
   "outputs": [
    {
     "data": {
      "text/plain": [
       "1769"
      ]
     },
     "execution_count": 9,
     "metadata": {},
     "output_type": "execute_result"
    }
   ],
   "source": [
    "len(ppers['Nama Media'].unique())"
   ]
  },
  {
   "cell_type": "code",
   "execution_count": 10,
   "metadata": {},
   "outputs": [],
   "source": [
    "by_provinsi = ppers.groupby(['Provinsi'])"
   ]
  },
  {
   "cell_type": "code",
   "execution_count": 11,
   "metadata": {},
   "outputs": [
    {
     "data": {
      "text/plain": [
       "Provinsi\n",
       "Kepulauan Riau               204\n",
       "DKI Jakarta                  198\n",
       "Jawa Timur                   139\n",
       "Sumatera Selatan             120\n",
       "Riau                         114\n",
       "Sumatera Utara                81\n",
       "Sulawesi Selatan              74\n",
       "Sumatera Barat                69\n",
       "Jawa Barat                    68\n",
       "Bengkulu                      67\n",
       "Lampung                       58\n",
       "Kalimantan Tengah             53\n",
       "Jawa Tengah                   51\n",
       "Kalimantan Selatan            50\n",
       "Sulawesi Utara                49\n",
       "Kalimantan Timur              42\n",
       "Banten                        41\n",
       "Bali                          41\n",
       "Jambi                         36\n",
       "Aceh                          35\n",
       "Nusa Tenggara Barat           26\n",
       "DI Yogyakarta                 25\n",
       "Sulawesi Tenggara             25\n",
       "Gorontalo                     24\n",
       "Kalimantan Barat              20\n",
       "Sulawesi Tengah               18\n",
       "Kepulauan Bangka Belitung     17\n",
       "Papua                         12\n",
       "Maluku                        12\n",
       "Sulawesi Barat                 9\n",
       "Maluku Utara                   7\n",
       "Papua Barat                    6\n",
       "Kalimantan Utara               5\n",
       "Nusa Tenggara Timur            3\n",
       "Name: Nama Media, dtype: int64"
      ]
     },
     "execution_count": 11,
     "metadata": {},
     "output_type": "execute_result"
    }
   ],
   "source": [
    "ppers.groupby(['Provinsi'])['Nama Media'].count().sort_values(ascending=False)"
   ]
  },
  {
   "cell_type": "code",
   "execution_count": 12,
   "metadata": {},
   "outputs": [
    {
     "data": {
      "text/plain": [
       "<AxesSubplot:xlabel='Provinsi'>"
      ]
     },
     "execution_count": 12,
     "metadata": {},
     "output_type": "execute_result"
    },
    {
     "data": {
      "image/png": "[encoded data removed]",
      "text/plain": [
       "<Figure size 432x288 with 1 Axes>"
      ]
     },
     "metadata": {
      "needs_background": "light"
     },
     "output_type": "display_data"
    }
   ],
   "source": [
    "by_provinsi['Nama Media'].count().sort_values(ascending=False).plot.bar()"
   ]
  },
  {
   "cell_type": "code",
   "execution_count": 13,
   "metadata": {},
   "outputs": [
    {
     "data": {
      "text/plain": [
       "<AxesSubplot:xlabel='Jenis Media'>"
      ]
     },
     "execution_count": 13,
     "metadata": {},
     "output_type": "execute_result"
    },
    {
     "data": {
      "image/png": "[encoded data removed]",
      "text/plain": [
       "<Figure size 432x288 with 1 Axes>"
      ]
     },
     "metadata": {
      "needs_background": "light"
     },
     "output_type": "display_data"
    }
   ],
   "source": [
    "ppers.groupby(['Jenis Media'])['Nama Media'].count().sort_values(ascending=False).plot.bar()"
   ]
  },
  {
   "cell_type": "code",
   "execution_count": 14,
   "metadata": {},
   "outputs": [
    {
     "data": {
      "text/plain": [
       "Status\n",
       "Terverifikasi Administratif dan Faktual    689\n",
       "Terverifikasi Administratif                457\n",
       "Terverifikasi Administrasi dan Faktual     329\n",
       "Terverifikasi Administrasi                 325\n",
       "Name: Nama Media, dtype: int64"
      ]
     },
     "execution_count": 14,
     "metadata": {},
     "output_type": "execute_result"
    }
   ],
   "source": [
    "ppers.groupby(['Status'])['Nama Media'].count().sort_values(ascending=False)"
   ]
  },
  {
   "cell_type": "code",
   "execution_count": 59,
   "metadata": {},
   "outputs": [
    {
     "data": {
      "text/plain": [
       "<AxesSubplot:ylabel='Status'>"
      ]
     },
     "execution_count": 59,
     "metadata": {},
     "output_type": "execute_result"
    },
    {
     "data": {
      "application/vnd.jupyter.widget-view+json": {
       "model_id": "5676d0ebbe78420db7f854402a990d8f",
       "version_major": 2,
       "version_minor": 0
      },
      "image/png": "[encoded data removed]",
      "text/html": [
       "\n",
       "            <div style=\"display: inline-block;\">\n",
       "                <div class=\"jupyter-widgets widget-label\" style=\"text-align: center;\">\n",
       "                    Figure\n",
       "                </div>\n",
       "                <img src='data:image/png;base64,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' width=640.0/>\n",
       "            </div>\n",
       "        "
      ],
      "text/plain": [
       "Canvas(toolbar=Toolbar(toolitems=[('Home', 'Reset original view', 'home', 'home'), ('Back', 'Back to previous …"
      ]
     },
     "metadata": {},
     "output_type": "display_data"
    }
   ],
   "source": [
    "ppers.groupby(['Status'])['Nama Media'].count().sort_values(ascending=True).plot.barh()"
   ]
  },
  {
   "cell_type": "code",
   "execution_count": 16,
   "metadata": {},
   "outputs": [
    {
     "data": {
      "text/plain": [
       "Badan Hukum\n",
       "PT                          616\n",
       "pt                           36\n",
       "Dua Satu Pro                  2\n",
       "Media Totabuan Indonesia      2\n",
       "PT.Riau Media Grafika         2\n",
       "                           ... \n",
       "MEDIA MATA BANGSA             1\n",
       "MEDIA MEDAN MANDIRI           1\n",
       "MEDIA PERJUANGAN BARU         1\n",
       "MEDIA SAMUDERA KEPRI          1\n",
       "sultra media cyber            1\n",
       "Name: Nama Media, Length: 1098, dtype: int64"
      ]
     },
     "execution_count": 16,
     "metadata": {},
     "output_type": "execute_result"
    }
   ],
   "source": [
    "ppers.groupby(['Badan Hukum'])['Nama Media'].count().sort_values(ascending=False)"
   ]
  },
  {
   "cell_type": "code",
   "execution_count": 41,
   "metadata": {},
   "outputs": [
    {
     "data": {
      "text/html": [
       "<div>\n",
       "<style scoped>\n",
       "    .dataframe tbody tr th:only-of-type {\n",
       "        vertical-align: middle;\n",
       "    }\n",
       "\n",
       "    .dataframe tbody tr th {\n",
       "        vertical-align: top;\n",
       "    }\n",
       "\n",
       "    .dataframe thead tr th {\n",
       "        text-align: left;\n",
       "    }\n",
       "</style>\n",
       "<table border=\"1\" class=\"dataframe\">\n",
       "  <thead>\n",
       "    <tr>\n",
       "      <th></th>\n",
       "      <th colspan=\"4\" halign=\"left\">Status</th>\n",
       "    </tr>\n",
       "    <tr>\n",
       "      <th>Jenis Media</th>\n",
       "      <th>Cetak</th>\n",
       "      <th>Radio</th>\n",
       "      <th>Siber</th>\n",
       "      <th>Televisi</th>\n",
       "    </tr>\n",
       "  </thead>\n",
       "  <tbody>\n",
       "    <tr>\n",
       "      <th>0</th>\n",
       "      <td>NaN</td>\n",
       "      <td>NaN</td>\n",
       "      <td>Terverifikasi Administratif dan Faktual</td>\n",
       "      <td>NaN</td>\n",
       "    </tr>\n",
       "    <tr>\n",
       "      <th>1</th>\n",
       "      <td>NaN</td>\n",
       "      <td>NaN</td>\n",
       "      <td>Terverifikasi Administratif dan Faktual</td>\n",
       "      <td>NaN</td>\n",
       "    </tr>\n",
       "    <tr>\n",
       "      <th>2</th>\n",
       "      <td>NaN</td>\n",
       "      <td>NaN</td>\n",
       "      <td>Terverifikasi Administratif dan Faktual</td>\n",
       "      <td>NaN</td>\n",
       "    </tr>\n",
       "    <tr>\n",
       "      <th>3</th>\n",
       "      <td>NaN</td>\n",
       "      <td>NaN</td>\n",
       "      <td>Terverifikasi Administratif dan Faktual</td>\n",
       "      <td>NaN</td>\n",
       "    </tr>\n",
       "    <tr>\n",
       "      <th>4</th>\n",
       "      <td>NaN</td>\n",
       "      <td>NaN</td>\n",
       "      <td>Terverifikasi Administratif dan Faktual</td>\n",
       "      <td>NaN</td>\n",
       "    </tr>\n",
       "    <tr>\n",
       "      <th>...</th>\n",
       "      <td>...</td>\n",
       "      <td>...</td>\n",
       "      <td>...</td>\n",
       "      <td>...</td>\n",
       "    </tr>\n",
       "    <tr>\n",
       "      <th>1795</th>\n",
       "      <td>NaN</td>\n",
       "      <td>NaN</td>\n",
       "      <td>Terverifikasi Administrasi dan Faktual</td>\n",
       "      <td>NaN</td>\n",
       "    </tr>\n",
       "    <tr>\n",
       "      <th>1796</th>\n",
       "      <td>Terverifikasi Administrasi dan Faktual</td>\n",
       "      <td>NaN</td>\n",
       "      <td>NaN</td>\n",
       "      <td>NaN</td>\n",
       "    </tr>\n",
       "    <tr>\n",
       "      <th>1797</th>\n",
       "      <td>NaN</td>\n",
       "      <td>NaN</td>\n",
       "      <td>Terverifikasi Administrasi dan Faktual</td>\n",
       "      <td>NaN</td>\n",
       "    </tr>\n",
       "    <tr>\n",
       "      <th>1798</th>\n",
       "      <td>Terverifikasi Administrasi dan Faktual</td>\n",
       "      <td>NaN</td>\n",
       "      <td>NaN</td>\n",
       "      <td>NaN</td>\n",
       "    </tr>\n",
       "    <tr>\n",
       "      <th>1799</th>\n",
       "      <td>NaN</td>\n",
       "      <td>NaN</td>\n",
       "      <td>NaN</td>\n",
       "      <td>Terverifikasi Administrasi dan Faktual</td>\n",
       "    </tr>\n",
       "  </tbody>\n",
       "</table>\n",
       "<p>1800 rows × 4 columns</p>\n",
       "</div>"
      ],
      "text/plain": [
       "                                             Status        \\\n",
       "Jenis Media                                   Cetak Radio   \n",
       "0                                               NaN   NaN   \n",
       "1                                               NaN   NaN   \n",
       "2                                               NaN   NaN   \n",
       "3                                               NaN   NaN   \n",
       "4                                               NaN   NaN   \n",
       "...                                             ...   ...   \n",
       "1795                                            NaN   NaN   \n",
       "1796         Terverifikasi Administrasi dan Faktual   NaN   \n",
       "1797                                            NaN   NaN   \n",
       "1798         Terverifikasi Administrasi dan Faktual   NaN   \n",
       "1799                                            NaN   NaN   \n",
       "\n",
       "                                                      \\\n",
       "Jenis Media                                    Siber   \n",
       "0            Terverifikasi Administratif dan Faktual   \n",
       "1            Terverifikasi Administratif dan Faktual   \n",
       "2            Terverifikasi Administratif dan Faktual   \n",
       "3            Terverifikasi Administratif dan Faktual   \n",
       "4            Terverifikasi Administratif dan Faktual   \n",
       "...                                              ...   \n",
       "1795          Terverifikasi Administrasi dan Faktual   \n",
       "1796                                             NaN   \n",
       "1797          Terverifikasi Administrasi dan Faktual   \n",
       "1798                                             NaN   \n",
       "1799                                             NaN   \n",
       "\n",
       "                                                     \n",
       "Jenis Media                                Televisi  \n",
       "0                                               NaN  \n",
       "1                                               NaN  \n",
       "2                                               NaN  \n",
       "3                                               NaN  \n",
       "4                                               NaN  \n",
       "...                                             ...  \n",
       "1795                                            NaN  \n",
       "1796                                            NaN  \n",
       "1797                                            NaN  \n",
       "1798                                            NaN  \n",
       "1799         Terverifikasi Administrasi dan Faktual  \n",
       "\n",
       "[1800 rows x 4 columns]"
      ]
     },
     "execution_count": 41,
     "metadata": {},
     "output_type": "execute_result"
    }
   ],
   "source": [
    "ppers.pivot(columns=['Jenis Media'], values=['Status'])"
   ]
  },
  {
   "cell_type": "markdown",
   "metadata": {},
   "source": [
    "## Sertifikasi Wartawan"
   ]
  },
  {
   "cell_type": "code",
   "execution_count": 55,
   "metadata": {},
   "outputs": [
    {
     "name": "stdout",
     "output_type": "stream",
     "text": [
      "Using matplotlib backend: module://ipympl.backend_nbagg\n"
     ]
    }
   ],
   "source": [
    "%matplotlib\n",
    "import matplotlib.pyplot as plt"
   ]
  },
  {
   "cell_type": "code",
   "execution_count": 18,
   "metadata": {},
   "outputs": [
    {
     "name": "stdout",
     "output_type": "stream",
     "text": [
      "<class 'pandas.core.frame.DataFrame'>\n",
      "RangeIndex: 19958 entries, 0 to 19957\n",
      "Data columns (total 7 columns):\n",
      " #   Column            Non-Null Count  Dtype \n",
      "---  ------            --------------  ----- \n",
      " 0   #                 19958 non-null  int64 \n",
      " 1   Nama Wartawan     19958 non-null  object\n",
      " 2   Nama Media        19359 non-null  object\n",
      " 3   Nomor Sertifikat  19958 non-null  object\n",
      " 4   Lembaga Uji       19958 non-null  object\n",
      " 5   Jenjang           19958 non-null  object\n",
      " 6   Provinsi          19925 non-null  object\n",
      "dtypes: int64(1), object(6)\n",
      "memory usage: 1.1+ MB\n"
     ]
    }
   ],
   "source": [
    "sert_df = pd.read_csv('./data/sertifikasi_wartawan.csv', index_col=False,\n",
    "                      usecols=['#', 'Nama Wartawan', 'Nama Media', 'Nomor Sertifikat',\n",
    "                               'Lembaga Uji', 'Jenjang', 'Provinsi'])\n",
    "sert_df.info()"
   ]
  },
  {
   "cell_type": "code",
   "execution_count": 40,
   "metadata": {},
   "outputs": [
    {
     "data": {
      "text/html": [
       "<div>\n",
       "<style scoped>\n",
       "    .dataframe tbody tr th:only-of-type {\n",
       "        vertical-align: middle;\n",
       "    }\n",
       "\n",
       "    .dataframe tbody tr th {\n",
       "        vertical-align: top;\n",
       "    }\n",
       "\n",
       "    .dataframe thead th {\n",
       "        text-align: right;\n",
       "    }\n",
       "</style>\n",
       "<table border=\"1\" class=\"dataframe\">\n",
       "  <thead>\n",
       "    <tr style=\"text-align: right;\">\n",
       "      <th></th>\n",
       "      <th>#</th>\n",
       "      <th>Nama Wartawan</th>\n",
       "      <th>Nama Media</th>\n",
       "      <th>Nomor Sertifikat</th>\n",
       "      <th>Lembaga Uji</th>\n",
       "      <th>Jenjang</th>\n",
       "      <th>Provinsi</th>\n",
       "      <th>Provinsi_</th>\n",
       "    </tr>\n",
       "  </thead>\n",
       "  <tbody>\n",
       "    <tr>\n",
       "      <th>19955</th>\n",
       "      <td>19962</td>\n",
       "      <td>Yaumil Azis</td>\n",
       "      <td>dream.co.id</td>\n",
       "      <td>20470-FIKOM UPDM(B)/Wda/DP/XI/2021/29/01/93</td>\n",
       "      <td>Jurusan/Program Studi ilmu Komunikasi Universitas DR. Moestopo Beragama</td>\n",
       "      <td>muda</td>\n",
       "      <td>Jawa Timur</td>\n",
       "      <td>Jawa Timur</td>\n",
       "    </tr>\n",
       "    <tr>\n",
       "      <th>19956</th>\n",
       "      <td>19963</td>\n",
       "      <td>Yoga Tri Priyanto</td>\n",
       "      <td>dream.co.id</td>\n",
       "      <td>20471-FIKOM UPDM(B)/Wda/DP/XI/2021/11/06/90</td>\n",
       "      <td>Jurusan/Program Studi ilmu Komunikasi Universitas DR. Moestopo Beragama</td>\n",
       "      <td>muda</td>\n",
       "      <td>Jawa Timur</td>\n",
       "      <td>Jawa Timur</td>\n",
       "    </tr>\n",
       "    <tr>\n",
       "      <th>19957</th>\n",
       "      <td>19964</td>\n",
       "      <td>I Gusti Ngurah Dibia</td>\n",
       "      <td>diksimerdeka.com</td>\n",
       "      <td>6131-PWI/WU/DP/V/2021/12/01/70</td>\n",
       "      <td>PWI</td>\n",
       "      <td>utama</td>\n",
       "      <td>Bali</td>\n",
       "      <td>Bali</td>\n",
       "    </tr>\n",
       "  </tbody>\n",
       "</table>\n",
       "</div>"
      ],
      "text/plain": [
       "           #         Nama Wartawan        Nama Media  \\\n",
       "19955  19962           Yaumil Azis       dream.co.id   \n",
       "19956  19963     Yoga Tri Priyanto       dream.co.id   \n",
       "19957  19964  I Gusti Ngurah Dibia  diksimerdeka.com   \n",
       "\n",
       "                                  Nomor Sertifikat  \\\n",
       "19955  20470-FIKOM UPDM(B)/Wda/DP/XI/2021/29/01/93   \n",
       "19956  20471-FIKOM UPDM(B)/Wda/DP/XI/2021/11/06/90   \n",
       "19957               6131-PWI/WU/DP/V/2021/12/01/70   \n",
       "\n",
       "                                                                   Lembaga Uji  \\\n",
       "19955  Jurusan/Program Studi ilmu Komunikasi Universitas DR. Moestopo Beragama   \n",
       "19956  Jurusan/Program Studi ilmu Komunikasi Universitas DR. Moestopo Beragama   \n",
       "19957                                                                      PWI   \n",
       "\n",
       "      Jenjang    Provinsi   Provinsi_  \n",
       "19955    muda  Jawa Timur  Jawa Timur  \n",
       "19956    muda  Jawa Timur  Jawa Timur  \n",
       "19957   utama        Bali        Bali  "
      ]
     },
     "execution_count": 40,
     "metadata": {},
     "output_type": "execute_result"
    }
   ],
   "source": [
    "sert_df.tail(3)"
   ]
  },
  {
   "cell_type": "code",
   "execution_count": 19,
   "metadata": {},
   "outputs": [
    {
     "data": {
      "text/plain": [
       "array(['madya', 'muda', 'utama', 'v'], dtype=object)"
      ]
     },
     "execution_count": 19,
     "metadata": {},
     "output_type": "execute_result"
    }
   ],
   "source": [
    "sert_df['Jenjang'] = sert_df['Jenjang'].str.lower().str.replace('wartawan ', '')\n",
    "sert_df['Jenjang'].unique()"
   ]
  },
  {
   "cell_type": "code",
   "execution_count": 20,
   "metadata": {},
   "outputs": [
    {
     "name": "stderr",
     "output_type": "stream",
     "text": [
      "C:\\Users\\niam\\AppData\\Local\\Temp\\ipykernel_8816\\1099496385.py:5: FutureWarning: The default value of regex will change from True to False in a future version.\n",
      "  sert_df['Provinsi'] = sert_df['Provinsi'].str.replace('Medan', 'Sumatera Utara').str.replace('Waspada.co.id', 'Sumatera Utara')\n"
     ]
    },
    {
     "data": {
      "text/plain": [
       "array(['Sumatera Selatan', 'DI Yogyakarta', 'Kalimantan Utara',\n",
       "       'Jawa Timur', 'Jawa Tengah', 'Jawa Barat', 'Bengkulu',\n",
       "       'Sulawesi Utara', 'Riau', 'DKI Jakarta', 'Sumatera Barat',\n",
       "       'Kalimantan Selatan', 'Sulawesi Tenggara', 'Lampung',\n",
       "       'Sumatera Utara', 'Sulawesi Selatan', 'Kalimantan Timur',\n",
       "       'Kalimantan Tengah', 'Bali', 'Papua', 'Aceh', 'Sulawesi Tengah',\n",
       "       'Nusa Tenggara Timur', 'Sulawesi Barat', 'Nusa Tenggara Barat',\n",
       "       'Kalimantan Barat', 'Kepulauan Riau', 'Jambi', 'Banten', nan,\n",
       "       'Kepulauan Bangka Belitung', 'Maluku', 'Papua Barat', 'Gorontalo',\n",
       "       'Maluku Utara', ''], dtype=object)"
      ]
     },
     "execution_count": 20,
     "metadata": {},
     "output_type": "execute_result"
    }
   ],
   "source": [
    "sert_df['Provinsi'] = sert_df['Provinsi'].str.replace('Surakarta', 'Jawa Tengah').str.replace('Solo', 'Jawa Tengah')\n",
    "sert_df['Provinsi'] = sert_df['Provinsi'].str.replace('DKI Jakarta', 'Jakarta').str.replace('Jakarta', 'DKI Jakarta')\n",
    "sert_df['Provinsi'] = sert_df['Provinsi'].str.replace('Palembang', 'Sumatera Selatan').str.replace('Sumatra Selatan', 'Sumatera Selatan')\n",
    "sert_df['Provinsi'] = sert_df['Provinsi'].str.replace('Pekanbaru', 'Riau').str.replace('Turkey', '')\n",
    "sert_df['Provinsi'] = sert_df['Provinsi'].str.replace('Medan', 'Sumatera Utara').str.replace('Waspada.co.id', 'Sumatera Utara')\n",
    "sert_df['Provinsi'] = sert_df['Provinsi'].str.replace('DI Yogyakarta', 'Yogyakarta').str.replace('Yogyakarta', 'DI Yogyakarta')\n",
    "sert_df['Provinsi'] = sert_df['Provinsi'].str.replace('Kepulauan Bangka Belitung', 'Bangka Belitung').str.replace('Bangka Belitung', 'Kepulauan Bangka Belitung')\n",
    "sert_df['Provinsi'] = sert_df['Provinsi'].str.replace('Maluku Tenggara Barat', 'Maluku')\n",
    "\n",
    "sert_df['Provinsi'].unique()"
   ]
  },
  {
   "cell_type": "code",
   "execution_count": 21,
   "metadata": {},
   "outputs": [
    {
     "data": {
      "text/plain": [
       "36"
      ]
     },
     "execution_count": 21,
     "metadata": {},
     "output_type": "execute_result"
    }
   ],
   "source": [
    "len(sert_df['Provinsi'].unique())"
   ]
  },
  {
   "cell_type": "code",
   "execution_count": 22,
   "metadata": {},
   "outputs": [
    {
     "data": {
      "text/plain": [
       "DKI Jakarta                  3521\n",
       "Jawa Timur                   1834\n",
       "Jawa Barat                   1442\n",
       "Jawa Tengah                  1198\n",
       "Sumatera Utara                992\n",
       "Lampung                       912\n",
       "Sumatera Selatan              765\n",
       "Riau                          725\n",
       "Sulawesi Selatan              715\n",
       "Kalimantan Timur              616\n",
       "Kepulauan Riau                581\n",
       "Sumatera Barat                577\n",
       "Banten                        544\n",
       "Sulawesi Utara                521\n",
       "Aceh                          501\n",
       "Bali                          455\n",
       "Bengkulu                      433\n",
       "DI Yogyakarta                 416\n",
       "Kalimantan Tengah             408\n",
       "Kalimantan Selatan            369\n",
       "Papua                         314\n",
       "Jambi                         287\n",
       "Nusa Tenggara Barat           247\n",
       "Sulawesi Tengah               229\n",
       "Sulawesi Tenggara             211\n",
       "Kepulauan Bangka Belitung     207\n",
       "Maluku Utara                  168\n",
       "Kalimantan Barat              159\n",
       "Papua Barat                   147\n",
       "Nusa Tenggara Timur           120\n",
       "Maluku                        118\n",
       "Gorontalo                      88\n",
       "Sulawesi Barat                 78\n",
       "Kalimantan Utara               26\n",
       "                                1\n",
       "Name: Provinsi, dtype: int64"
      ]
     },
     "execution_count": 22,
     "metadata": {},
     "output_type": "execute_result"
    }
   ],
   "source": [
    "sert_df['Provinsi'].value_counts()"
   ]
  },
  {
   "cell_type": "code",
   "execution_count": 56,
   "metadata": {},
   "outputs": [
    {
     "data": {
      "text/plain": [
       "<AxesSubplot:>"
      ]
     },
     "execution_count": 56,
     "metadata": {},
     "output_type": "execute_result"
    },
    {
     "data": {
      "application/vnd.jupyter.widget-view+json": {
       "model_id": "5676d0ebbe78420db7f854402a990d8f",
       "version_major": 2,
       "version_minor": 0
      },
      "image/png": "[encoded data removed]",
      "text/html": [
       "\n",
       "            <div style=\"display: inline-block;\">\n",
       "                <div class=\"jupyter-widgets widget-label\" style=\"text-align: center;\">\n",
       "                    Figure\n",
       "                </div>\n",
       "                <img src='data:image/png;base64,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' width=640.0/>\n",
       "            </div>\n",
       "        "
      ],
      "text/plain": [
       "Canvas(toolbar=Toolbar(toolitems=[('Home', 'Reset original view', 'home', 'home'), ('Back', 'Back to previous …"
      ]
     },
     "metadata": {},
     "output_type": "display_data"
    }
   ],
   "source": [
    "sert_df['Provinsi'].value_counts().plot.bar()"
   ]
  },
  {
   "cell_type": "code",
   "execution_count": 24,
   "metadata": {},
   "outputs": [
    {
     "data": {
      "text/plain": [
       "array(['Persatuan Wartawan Indonesia (PWI)', 'Lembaga Pers Dr. Soetomo',\n",
       "       'Fikom, Universitas Profesor DR. Moestopo (Beragama)',\n",
       "       'UPN (Veteran) Yogyakarta', 'PWI',\n",
       "       'Lembaga Pendidikan London School (Prog. Studi Ilmu Komunikasi) Jakarta',\n",
       "       'Solopos', 'LKBN Antara',\n",
       "       'Lembaga UKW Universitas Dr. Soetomo (UNITOMO)', 'AJI', 'ANTV',\n",
       "       'IJTI', 'Bali Post',\n",
       "       'Lembaga Penyiaran Publik Radio Republik Indonesia (LPP RRI)',\n",
       "       'Ditetapkan Dewan Pers', 'LPDS', 'FIKOM UPDM(B)',\n",
       "       'Jurusan Program Studi Ilmu Komunikasi Jurnalistik Universitas Pembangunan Nasional Veteran Yogyakarta',\n",
       "       'Media Indonesia', 'TEMPO',\n",
       "       'Jurusan/Program Studi ilmu Komunikasi Universitas DR. Moestopo Beragama',\n",
       "       'PT. Media Nusantara Citra (MNC Group)',\n",
       "       'PT. Aksara Solopos (Solopos)',\n",
       "       'Universitas Prof. Dr. Moestopo (Beragama)',\n",
       "       'Aliansi Jurnalis Independen (AJI)', 'LKBN ANTARA',\n",
       "       'PT. Cakrawala Andalas Televisi (ANTV)', 'LSPR',\n",
       "       'Lembaga Kantor Berita Nasional ANTARA', 'Fajar', 'IISIP JAKARTA',\n",
       "       'RRI', 'PT. Kompas Media Nusantara (Kompas Group)',\n",
       "       'Prodi Ilmu Komunikasi FISIP UMJ',\n",
       "       'Jurusan/Program Studi Ilmu Komunikasi, Lembaga Pendidikan London School Public Relation'],\n",
       "      dtype=object)"
      ]
     },
     "execution_count": 24,
     "metadata": {},
     "output_type": "execute_result"
    }
   ],
   "source": [
    "sert_df['Lembaga Uji'].unique()"
   ]
  },
  {
   "cell_type": "code",
   "execution_count": 29,
   "metadata": {},
   "outputs": [
    {
     "data": {
      "text/plain": [
       "array(['Radar Palembang', 'Samudra News', 'Strateginews.co', ...,\n",
       "       'Aspirasi Pos', 'Brilio.net', 'diksimerdeka.com'], dtype=object)"
      ]
     },
     "execution_count": 29,
     "metadata": {},
     "output_type": "execute_result"
    }
   ],
   "source": [
    "sert_df['Nama Media'].unique()"
   ]
  },
  {
   "cell_type": "code",
   "execution_count": 25,
   "metadata": {},
   "outputs": [
    {
     "data": {
      "text/plain": [
       "4563"
      ]
     },
     "execution_count": 25,
     "metadata": {},
     "output_type": "execute_result"
    }
   ],
   "source": [
    "len(sert_df['Nama Media'].unique())"
   ]
  },
  {
   "cell_type": "code",
   "execution_count": 28,
   "metadata": {},
   "outputs": [
    {
     "data": {
      "text/plain": [
       "LKBN ANTARA           338\n",
       "RRI                   276\n",
       "Kompas                181\n",
       "kumparan              160\n",
       "Suara Merdeka         144\n",
       "                     ... \n",
       "T. Anusias              1\n",
       "Demokrasibabel.com      1\n",
       "Babelhits               1\n",
       "progresid.com           1\n",
       "diksimerdeka.com        1\n",
       "Name: Nama Media, Length: 4562, dtype: int64"
      ]
     },
     "execution_count": 28,
     "metadata": {},
     "output_type": "execute_result"
    }
   ],
   "source": [
    "sert_df['Nama Media'].value_counts().sort_values(ascending=False)"
   ]
  },
  {
   "cell_type": "markdown",
   "metadata": {},
   "source": [
    "## Lembaga Uji Kompetensi"
   ]
  },
  {
   "cell_type": "code",
   "execution_count": 39,
   "metadata": {},
   "outputs": [
    {
     "name": "stdout",
     "output_type": "stream",
     "text": [
      "<class 'pandas.core.frame.DataFrame'>\n",
      "RangeIndex: 30 entries, 0 to 29\n",
      "Data columns (total 5 columns):\n",
      " #   Column        Non-Null Count  Dtype \n",
      "---  ------        --------------  ----- \n",
      " 0   Nama Lembaga  30 non-null     object\n",
      " 1   Alamat        29 non-null     object\n",
      " 2   Provinsi      30 non-null     object\n",
      " 3   Keterangan    29 non-null     object\n",
      " 4   Status        30 non-null     object\n",
      "dtypes: object(5)\n",
      "memory usage: 1.3+ KB\n"
     ]
    }
   ],
   "source": [
    "uji_komp = pd.read_csv('./data/lembaga_uji_kompetensi.csv', sep=';', index_col=False, na_values='NaN',\n",
    "                       usecols=['Nama Lembaga', 'Alamat', 'Provinsi', 'Keterangan', 'Status'])\n",
    "uji_komp.info()"
   ]
  },
  {
   "cell_type": "code",
   "execution_count": 40,
   "metadata": {},
   "outputs": [
    {
     "data": {
      "text/html": [
       "<div>\n",
       "<style scoped>\n",
       "    .dataframe tbody tr th:only-of-type {\n",
       "        vertical-align: middle;\n",
       "    }\n",
       "\n",
       "    .dataframe tbody tr th {\n",
       "        vertical-align: top;\n",
       "    }\n",
       "\n",
       "    .dataframe thead th {\n",
       "        text-align: right;\n",
       "    }\n",
       "</style>\n",
       "<table border=\"1\" class=\"dataframe\">\n",
       "  <thead>\n",
       "    <tr style=\"text-align: right;\">\n",
       "      <th></th>\n",
       "      <th>Nama Lembaga</th>\n",
       "      <th>Alamat</th>\n",
       "      <th>Provinsi</th>\n",
       "      <th>Keterangan</th>\n",
       "      <th>Status</th>\n",
       "    </tr>\n",
       "  </thead>\n",
       "  <tbody>\n",
       "    <tr>\n",
       "      <th>0</th>\n",
       "      <td>Lembaga Kantor Berita Nasional ANTARA</td>\n",
       "      <td>Wisma ANTARA Lantai 18-20Jalan Medan Merdeka S...</td>\n",
       "      <td>DKI Jakarta</td>\n",
       "      <td>Lembaga Uji</td>\n",
       "      <td>Ditetapkan 9 September 2011</td>\n",
       "    </tr>\n",
       "    <tr>\n",
       "      <th>1</th>\n",
       "      <td>Lembaga Penyiaran Publik Radio Republik Indone...</td>\n",
       "      <td>Jl. Medan Merdeka Barat 4-5 Jakarta 10270, Ind...</td>\n",
       "      <td>DKI Jakarta</td>\n",
       "      <td>Lembaga Uji</td>\n",
       "      <td>Ditetapkan 9 September 2011</td>\n",
       "    </tr>\n",
       "    <tr>\n",
       "      <th>2</th>\n",
       "      <td>PT. Badan Penerbit Kedaulatan Rakyat (Kedaulat...</td>\n",
       "      <td>Jl. P. Mangkubumi No. 40-46Yogyakarta 55232</td>\n",
       "      <td>Yogyakarta</td>\n",
       "      <td>Lembaga Uji</td>\n",
       "      <td>Ditetapkan 10 Agustus 2012</td>\n",
       "    </tr>\n",
       "    <tr>\n",
       "      <th>3</th>\n",
       "      <td>PT. Aksara Solopos (Solopos)</td>\n",
       "      <td>Jln. Adisucipto No. 190 Solo</td>\n",
       "      <td>Jawa Tengah</td>\n",
       "      <td>Lembaga Uji</td>\n",
       "      <td>Ditetapkan 10 Agustus 2012</td>\n",
       "    </tr>\n",
       "    <tr>\n",
       "      <th>4</th>\n",
       "      <td>PT. Suara Nusa Mataram</td>\n",
       "      <td>NaN</td>\n",
       "      <td>Maluku Tenggara Barat</td>\n",
       "      <td>NaN</td>\n",
       "      <td>Ditetapkan 10 Agustus 2012</td>\n",
       "    </tr>\n",
       "    <tr>\n",
       "      <th>5</th>\n",
       "      <td>PT. Penerbitan Harian Waspada (Waspada)</td>\n",
       "      <td>Jl Brigjen Katamso 1, Aur, Medan Maimun, Medan...</td>\n",
       "      <td>Sumatera Utara</td>\n",
       "      <td>Lembaga Uji</td>\n",
       "      <td>Ditetapkan 10 Agustus 2012</td>\n",
       "    </tr>\n",
       "    <tr>\n",
       "      <th>6</th>\n",
       "      <td>PT. Cakrawala Andalas Televisi (ANTV)</td>\n",
       "      <td>Komplek Rasuna Epicentrum Lot 9, Jl. H.R. Rasu...</td>\n",
       "      <td>DKI Jakarta</td>\n",
       "      <td>Lembaga Uji</td>\n",
       "      <td>Ditetapkan 10 Agustus 2012</td>\n",
       "    </tr>\n",
       "    <tr>\n",
       "      <th>7</th>\n",
       "      <td>PT. Citra Media Nusa Purnama (Media Indonesia)</td>\n",
       "      <td>Jl. Pilar Mas Raya Kav A-DKedoya Selatan, Kebo...</td>\n",
       "      <td>DKI Jakarta</td>\n",
       "      <td>Lembaga Uji</td>\n",
       "      <td>Ditetapkan 10 Agustus 2012</td>\n",
       "    </tr>\n",
       "    <tr>\n",
       "      <th>8</th>\n",
       "      <td>PT. Media Fajar (Fajar)</td>\n",
       "      <td>Gedung Graha Pena Makassar Jalan Urip Sumoharj...</td>\n",
       "      <td>Sulawesi Selatan</td>\n",
       "      <td>Lembaga Uji</td>\n",
       "      <td>Ditetapkan 10 Agustus 2012</td>\n",
       "    </tr>\n",
       "    <tr>\n",
       "      <th>9</th>\n",
       "      <td>PT. Bina Media Tenggara (The Jakarta Post)</td>\n",
       "      <td>Jl. Palmerah Barat No. 142 - 143 Jakarta 10270...</td>\n",
       "      <td>DKI Jakarta</td>\n",
       "      <td>Lembaga Uji</td>\n",
       "      <td>Ditetapkan 10 Agustus 2012</td>\n",
       "    </tr>\n",
       "    <tr>\n",
       "      <th>10</th>\n",
       "      <td>PT. Bali Post (Bali Post)</td>\n",
       "      <td>Jl. Kepundung No.67a, Dangin Puri Kaja, Denpas...</td>\n",
       "      <td>Bali</td>\n",
       "      <td>Lembaga Uji</td>\n",
       "      <td>Ditetapkan 10 Agustus 2012</td>\n",
       "    </tr>\n",
       "    <tr>\n",
       "      <th>11</th>\n",
       "      <td>PT. Media Nusantara Citra (MNC Group)</td>\n",
       "      <td>MNC Tower 26th FloorJl. Kebon Sirih Kav. 17-19...</td>\n",
       "      <td>DKI Jakarta</td>\n",
       "      <td>Lembaga Uji</td>\n",
       "      <td>Ditetapkan 10 Agustus 2012</td>\n",
       "    </tr>\n",
       "    <tr>\n",
       "      <th>12</th>\n",
       "      <td>PT. Tempo Inti Media (Tempo Group)</td>\n",
       "      <td>Jalan Palmerah Barat No.8, RT.3/RW.5, Grogol U...</td>\n",
       "      <td>DKI Jakarta</td>\n",
       "      <td>Lembaga Uji</td>\n",
       "      <td>Ditetapkan 10 Agustus 2012</td>\n",
       "    </tr>\n",
       "    <tr>\n",
       "      <th>13</th>\n",
       "      <td>PT. Genta Singgalang Pres (Singgalang)</td>\n",
       "      <td>Jl.veteran No.17 Kota Padang</td>\n",
       "      <td>Sumatera Barat</td>\n",
       "      <td>Lembaga Uji</td>\n",
       "      <td>Ditetapkan 10 Agustus 2012</td>\n",
       "    </tr>\n",
       "    <tr>\n",
       "      <th>14</th>\n",
       "      <td>PT. Kompas Media Nusantara (Kompas Group)</td>\n",
       "      <td>Gedung Kompas GramediaJalan Palmerah Selatan 2...</td>\n",
       "      <td>DKI Jakarta</td>\n",
       "      <td>Lembaga Uji</td>\n",
       "      <td>Ditetapkan 10 Agustus 2012</td>\n",
       "    </tr>\n",
       "    <tr>\n",
       "      <th>15</th>\n",
       "      <td>PT. Pikiran Rakyat Bandung (Pikiran Rakyat)</td>\n",
       "      <td>Jalan Asia Afrika No. 77 Bandung 40111</td>\n",
       "      <td>Jawa Barat</td>\n",
       "      <td>Lembaga Uji</td>\n",
       "      <td>Ditetapkan 10 Agustus 2012</td>\n",
       "    </tr>\n",
       "    <tr>\n",
       "      <th>16</th>\n",
       "      <td>PT. Wahana Ekonomi Semesta (Rakyat Merdeka)</td>\n",
       "      <td>Gedung Graha Pena 6 &amp; 8 Floor Jl. Raya Kebayor...</td>\n",
       "      <td>DKI Jakarta</td>\n",
       "      <td>Lembaga Uji</td>\n",
       "      <td>Ditetapkan 10 Agustus 2012</td>\n",
       "    </tr>\n",
       "    <tr>\n",
       "      <th>17</th>\n",
       "      <td>PT. Jurnalindo Aksara Grafika (Bisnis Indonesia)</td>\n",
       "      <td>Wisma Bisnis IndonesiaJalan K.H. Mas Mansyur K...</td>\n",
       "      <td>DKI Jakarta</td>\n",
       "      <td>Lembaga Uji</td>\n",
       "      <td>Ditetapkan 28 Agustus 2012</td>\n",
       "    </tr>\n",
       "    <tr>\n",
       "      <th>18</th>\n",
       "      <td>Ikatan Jurnalis Televisi Indonesia (IJTI)</td>\n",
       "      <td>Gedung Dewan Pers Lt.5Jl. Kebon Sirih No. 32-3...</td>\n",
       "      <td>DKI Jakarta</td>\n",
       "      <td>Lembaga Uji</td>\n",
       "      <td>Ditetapkan 27 November 2012</td>\n",
       "    </tr>\n",
       "    <tr>\n",
       "      <th>19</th>\n",
       "      <td>Departemen Ilmu Komunikasi Fakultas Ilmu Sosia...</td>\n",
       "      <td>Gedung Komunikasi Fakultas Ilmu Sosial dan Ilm...</td>\n",
       "      <td>DKI Jakarta</td>\n",
       "      <td>Lembaga Uji</td>\n",
       "      <td>Ditetapkan 13 Desember 2012</td>\n",
       "    </tr>\n",
       "    <tr>\n",
       "      <th>20</th>\n",
       "      <td>Institut Ilmu Sosial dan Ilmu Politik (IISIP) ...</td>\n",
       "      <td>Jl. Raya Lenteng Agung 32, Lenteng Agung, Jaga...</td>\n",
       "      <td>DKI Jakarta</td>\n",
       "      <td>Lembaga Uji</td>\n",
       "      <td>Ditetapkan 13 Desember 2012</td>\n",
       "    </tr>\n",
       "    <tr>\n",
       "      <th>21</th>\n",
       "      <td>Jurusan Program Studi Ilmu Komunikasi Jurnalis...</td>\n",
       "      <td>Jl. SWK 104, Condongcatur, Depok, Kecamatan De...</td>\n",
       "      <td>Yogyakarta</td>\n",
       "      <td>Lembaga Uji</td>\n",
       "      <td>Ditetapkan 13 Desember 2012</td>\n",
       "    </tr>\n",
       "    <tr>\n",
       "      <th>22</th>\n",
       "      <td>Jurusan/Program Studi Ilmu Komunikasi, Lembaga...</td>\n",
       "      <td>Intiland Tower Lt.6, Jl. Jend Sudirman Kav. 32...</td>\n",
       "      <td>DKI Jakarta</td>\n",
       "      <td>Lembaga Uji</td>\n",
       "      <td>Ditetapkan 24 September 2013</td>\n",
       "    </tr>\n",
       "    <tr>\n",
       "      <th>23</th>\n",
       "      <td>Jurusan/Program Studi ilmu Komunikasi Universi...</td>\n",
       "      <td>Jl. Swadarma Raya No.54, RT.1/RW.2, Ulujami, K...</td>\n",
       "      <td>DKI Jakarta</td>\n",
       "      <td>Lembaga Uji</td>\n",
       "      <td>SK Dewan Pers Nomor: 02/SK-DP/IV/2015</td>\n",
       "    </tr>\n",
       "    <tr>\n",
       "      <th>24</th>\n",
       "      <td>Persatuan Wartawan Indonesia (PWI)</td>\n",
       "      <td>Gedung Dewan Pers Lantai IVJalan Kebon Sirih 3...</td>\n",
       "      <td>DKI Jakarta</td>\n",
       "      <td>Lembaga Uji</td>\n",
       "      <td>Ditetapkan 11 Juli 2011</td>\n",
       "    </tr>\n",
       "    <tr>\n",
       "      <th>25</th>\n",
       "      <td>Aliansi Jurnalis Independen (AJI)</td>\n",
       "      <td>Jl. Kembang Raya No. 6, Kwitang, Senen, Jakart...</td>\n",
       "      <td>DKI Jakarta</td>\n",
       "      <td>Lembaga Uji</td>\n",
       "      <td>Ditetapkan 9 September 2011</td>\n",
       "    </tr>\n",
       "    <tr>\n",
       "      <th>26</th>\n",
       "      <td>Lembaga Pers Dr.Soetomo (Yayasan Pendidikan da...</td>\n",
       "      <td>Gedung Dewan Pers Lt. 3Jl. Kebon Sirih No. 32-...</td>\n",
       "      <td>DKI Jakarta</td>\n",
       "      <td>Lembaga Uji</td>\n",
       "      <td>Ditetapkan 13 Juni 2011</td>\n",
       "    </tr>\n",
       "    <tr>\n",
       "      <th>27</th>\n",
       "      <td>Prodi Ilmu Komunikasi FISIP UMJ</td>\n",
       "      <td>alan KH Ahmad Dahlan, Ciputat Timur, Tangerang...</td>\n",
       "      <td>Banten</td>\n",
       "      <td>Lembaga Uji</td>\n",
       "      <td>Ditetapkan 27 Maret 2020</td>\n",
       "    </tr>\n",
       "    <tr>\n",
       "      <th>28</th>\n",
       "      <td>Lembaga UKW Universitas Dr. Soetomo (UNITOMO)</td>\n",
       "      <td>Jalan Semolowaru No.84 Surabaya 60118</td>\n",
       "      <td>Jawa Timur</td>\n",
       "      <td>Lembaga UKW</td>\n",
       "      <td>SK Dewan Pers nomor: 20/SK-DP/V/2021</td>\n",
       "    </tr>\n",
       "    <tr>\n",
       "      <th>29</th>\n",
       "      <td>Pewarta Foto Indonesia (PFI)</td>\n",
       "      <td>Jl. Ampera Raya No.122A, RT.3/RW.10, Ragunan, ...</td>\n",
       "      <td>DKI Jakarta</td>\n",
       "      <td>Lembaga UKW</td>\n",
       "      <td>SK Dewan Pers Nomor 24/SK.DP/IV/2022 Tgl 27 Ap...</td>\n",
       "    </tr>\n",
       "  </tbody>\n",
       "</table>\n",
       "</div>"
      ],
      "text/plain": [
       "                                         Nama Lembaga  \\\n",
       "0               Lembaga Kantor Berita Nasional ANTARA   \n",
       "1   Lembaga Penyiaran Publik Radio Republik Indone...   \n",
       "2   PT. Badan Penerbit Kedaulatan Rakyat (Kedaulat...   \n",
       "3                        PT. Aksara Solopos (Solopos)   \n",
       "4                              PT. Suara Nusa Mataram   \n",
       "5             PT. Penerbitan Harian Waspada (Waspada)   \n",
       "6               PT. Cakrawala Andalas Televisi (ANTV)   \n",
       "7      PT. Citra Media Nusa Purnama (Media Indonesia)   \n",
       "8                             PT. Media Fajar (Fajar)   \n",
       "9          PT. Bina Media Tenggara (The Jakarta Post)   \n",
       "10                          PT. Bali Post (Bali Post)   \n",
       "11              PT. Media Nusantara Citra (MNC Group)   \n",
       "12                 PT. Tempo Inti Media (Tempo Group)   \n",
       "13             PT. Genta Singgalang Pres (Singgalang)   \n",
       "14          PT. Kompas Media Nusantara (Kompas Group)   \n",
       "15        PT. Pikiran Rakyat Bandung (Pikiran Rakyat)   \n",
       "16        PT. Wahana Ekonomi Semesta (Rakyat Merdeka)   \n",
       "17   PT. Jurnalindo Aksara Grafika (Bisnis Indonesia)   \n",
       "18          Ikatan Jurnalis Televisi Indonesia (IJTI)   \n",
       "19  Departemen Ilmu Komunikasi Fakultas Ilmu Sosia...   \n",
       "20  Institut Ilmu Sosial dan Ilmu Politik (IISIP) ...   \n",
       "21  Jurusan Program Studi Ilmu Komunikasi Jurnalis...   \n",
       "22  Jurusan/Program Studi Ilmu Komunikasi, Lembaga...   \n",
       "23  Jurusan/Program Studi ilmu Komunikasi Universi...   \n",
       "24                 Persatuan Wartawan Indonesia (PWI)   \n",
       "25                  Aliansi Jurnalis Independen (AJI)   \n",
       "26  Lembaga Pers Dr.Soetomo (Yayasan Pendidikan da...   \n",
       "27                    Prodi Ilmu Komunikasi FISIP UMJ   \n",
       "28      Lembaga UKW Universitas Dr. Soetomo (UNITOMO)   \n",
       "29                       Pewarta Foto Indonesia (PFI)   \n",
       "\n",
       "                                               Alamat               Provinsi  \\\n",
       "0   Wisma ANTARA Lantai 18-20Jalan Medan Merdeka S...            DKI Jakarta   \n",
       "1   Jl. Medan Merdeka Barat 4-5 Jakarta 10270, Ind...            DKI Jakarta   \n",
       "2         Jl. P. Mangkubumi No. 40-46Yogyakarta 55232             Yogyakarta   \n",
       "3                        Jln. Adisucipto No. 190 Solo            Jawa Tengah   \n",
       "4                                                 NaN  Maluku Tenggara Barat   \n",
       "5   Jl Brigjen Katamso 1, Aur, Medan Maimun, Medan...         Sumatera Utara   \n",
       "6   Komplek Rasuna Epicentrum Lot 9, Jl. H.R. Rasu...            DKI Jakarta   \n",
       "7   Jl. Pilar Mas Raya Kav A-DKedoya Selatan, Kebo...            DKI Jakarta   \n",
       "8   Gedung Graha Pena Makassar Jalan Urip Sumoharj...       Sulawesi Selatan   \n",
       "9   Jl. Palmerah Barat No. 142 - 143 Jakarta 10270...            DKI Jakarta   \n",
       "10  Jl. Kepundung No.67a, Dangin Puri Kaja, Denpas...                   Bali   \n",
       "11  MNC Tower 26th FloorJl. Kebon Sirih Kav. 17-19...            DKI Jakarta   \n",
       "12  Jalan Palmerah Barat No.8, RT.3/RW.5, Grogol U...            DKI Jakarta   \n",
       "13                       Jl.veteran No.17 Kota Padang         Sumatera Barat   \n",
       "14  Gedung Kompas GramediaJalan Palmerah Selatan 2...            DKI Jakarta   \n",
       "15             Jalan Asia Afrika No. 77 Bandung 40111             Jawa Barat   \n",
       "16  Gedung Graha Pena 6 & 8 Floor Jl. Raya Kebayor...            DKI Jakarta   \n",
       "17  Wisma Bisnis IndonesiaJalan K.H. Mas Mansyur K...            DKI Jakarta   \n",
       "18  Gedung Dewan Pers Lt.5Jl. Kebon Sirih No. 32-3...            DKI Jakarta   \n",
       "19  Gedung Komunikasi Fakultas Ilmu Sosial dan Ilm...            DKI Jakarta   \n",
       "20  Jl. Raya Lenteng Agung 32, Lenteng Agung, Jaga...            DKI Jakarta   \n",
       "21  Jl. SWK 104, Condongcatur, Depok, Kecamatan De...             Yogyakarta   \n",
       "22  Intiland Tower Lt.6, Jl. Jend Sudirman Kav. 32...            DKI Jakarta   \n",
       "23  Jl. Swadarma Raya No.54, RT.1/RW.2, Ulujami, K...            DKI Jakarta   \n",
       "24  Gedung Dewan Pers Lantai IVJalan Kebon Sirih 3...            DKI Jakarta   \n",
       "25  Jl. Kembang Raya No. 6, Kwitang, Senen, Jakart...            DKI Jakarta   \n",
       "26  Gedung Dewan Pers Lt. 3Jl. Kebon Sirih No. 32-...            DKI Jakarta   \n",
       "27  alan KH Ahmad Dahlan, Ciputat Timur, Tangerang...                 Banten   \n",
       "28              Jalan Semolowaru No.84 Surabaya 60118             Jawa Timur   \n",
       "29  Jl. Ampera Raya No.122A, RT.3/RW.10, Ragunan, ...            DKI Jakarta   \n",
       "\n",
       "     Keterangan                                             Status  \n",
       "0   Lembaga Uji                        Ditetapkan 9 September 2011  \n",
       "1   Lembaga Uji                        Ditetapkan 9 September 2011  \n",
       "2   Lembaga Uji                         Ditetapkan 10 Agustus 2012  \n",
       "3   Lembaga Uji                         Ditetapkan 10 Agustus 2012  \n",
       "4           NaN                         Ditetapkan 10 Agustus 2012  \n",
       "5   Lembaga Uji                         Ditetapkan 10 Agustus 2012  \n",
       "6   Lembaga Uji                         Ditetapkan 10 Agustus 2012  \n",
       "7   Lembaga Uji                         Ditetapkan 10 Agustus 2012  \n",
       "8   Lembaga Uji                         Ditetapkan 10 Agustus 2012  \n",
       "9   Lembaga Uji                         Ditetapkan 10 Agustus 2012  \n",
       "10  Lembaga Uji                         Ditetapkan 10 Agustus 2012  \n",
       "11  Lembaga Uji                         Ditetapkan 10 Agustus 2012  \n",
       "12  Lembaga Uji                         Ditetapkan 10 Agustus 2012  \n",
       "13  Lembaga Uji                         Ditetapkan 10 Agustus 2012  \n",
       "14  Lembaga Uji                         Ditetapkan 10 Agustus 2012  \n",
       "15  Lembaga Uji                         Ditetapkan 10 Agustus 2012  \n",
       "16  Lembaga Uji                         Ditetapkan 10 Agustus 2012  \n",
       "17  Lembaga Uji                         Ditetapkan 28 Agustus 2012  \n",
       "18  Lembaga Uji                        Ditetapkan 27 November 2012  \n",
       "19  Lembaga Uji                        Ditetapkan 13 Desember 2012  \n",
       "20  Lembaga Uji                        Ditetapkan 13 Desember 2012  \n",
       "21  Lembaga Uji                        Ditetapkan 13 Desember 2012  \n",
       "22  Lembaga Uji                       Ditetapkan 24 September 2013  \n",
       "23  Lembaga Uji              SK Dewan Pers Nomor: 02/SK-DP/IV/2015  \n",
       "24  Lembaga Uji                            Ditetapkan 11 Juli 2011  \n",
       "25  Lembaga Uji                        Ditetapkan 9 September 2011  \n",
       "26  Lembaga Uji                            Ditetapkan 13 Juni 2011  \n",
       "27  Lembaga Uji                           Ditetapkan 27 Maret 2020  \n",
       "28  Lembaga UKW               SK Dewan Pers nomor: 20/SK-DP/V/2021  \n",
       "29  Lembaga UKW  SK Dewan Pers Nomor 24/SK.DP/IV/2022 Tgl 27 Ap...  "
      ]
     },
     "execution_count": 40,
     "metadata": {},
     "output_type": "execute_result"
    }
   ],
   "source": [
    "uji_komp"
   ]
  },
  {
   "cell_type": "code",
   "execution_count": 43,
   "metadata": {},
   "outputs": [
    {
     "data": {
      "text/html": [
       "<div>\n",
       "<style scoped>\n",
       "    .dataframe tbody tr th:only-of-type {\n",
       "        vertical-align: middle;\n",
       "    }\n",
       "\n",
       "    .dataframe tbody tr th {\n",
       "        vertical-align: top;\n",
       "    }\n",
       "\n",
       "    .dataframe thead th {\n",
       "        text-align: right;\n",
       "    }\n",
       "</style>\n",
       "<table border=\"1\" class=\"dataframe\">\n",
       "  <thead>\n",
       "    <tr style=\"text-align: right;\">\n",
       "      <th></th>\n",
       "      <th>Nama Lembaga</th>\n",
       "      <th>Alamat</th>\n",
       "      <th>Provinsi</th>\n",
       "      <th>Keterangan</th>\n",
       "      <th>Status</th>\n",
       "    </tr>\n",
       "  </thead>\n",
       "  <tbody>\n",
       "    <tr>\n",
       "      <th>0</th>\n",
       "      <td>Lembaga Kantor Berita Nasional ANTARA</td>\n",
       "      <td>Wisma ANTARA Lantai 18-20Jalan Medan Merdeka S...</td>\n",
       "      <td>DKI Jakarta</td>\n",
       "      <td>Lembaga Uji</td>\n",
       "      <td>Ditetapkan 9 September 2011</td>\n",
       "    </tr>\n",
       "    <tr>\n",
       "      <th>1</th>\n",
       "      <td>Lembaga Penyiaran Publik Radio Republik Indone...</td>\n",
       "      <td>Jl. Medan Merdeka Barat 4-5 Jakarta 10270, Ind...</td>\n",
       "      <td>DKI Jakarta</td>\n",
       "      <td>Lembaga Uji</td>\n",
       "      <td>Ditetapkan 9 September 2011</td>\n",
       "    </tr>\n",
       "  </tbody>\n",
       "</table>\n",
       "</div>"
      ],
      "text/plain": [
       "                                        Nama Lembaga  \\\n",
       "0              Lembaga Kantor Berita Nasional ANTARA   \n",
       "1  Lembaga Penyiaran Publik Radio Republik Indone...   \n",
       "\n",
       "                                              Alamat     Provinsi  \\\n",
       "0  Wisma ANTARA Lantai 18-20Jalan Medan Merdeka S...  DKI Jakarta   \n",
       "1  Jl. Medan Merdeka Barat 4-5 Jakarta 10270, Ind...  DKI Jakarta   \n",
       "\n",
       "    Keterangan                       Status  \n",
       "0  Lembaga Uji  Ditetapkan 9 September 2011  \n",
       "1  Lembaga Uji  Ditetapkan 9 September 2011  "
      ]
     },
     "execution_count": 43,
     "metadata": {},
     "output_type": "execute_result"
    }
   ],
   "source": [
    "uji_komp.head(2)"
   ]
  },
  {
   "cell_type": "code",
   "execution_count": 46,
   "metadata": {},
   "outputs": [
    {
     "data": {
      "text/plain": [
       "array(['Lembaga Kantor Berita Nasional ANTARA',\n",
       "       'Lembaga Penyiaran Publik Radio Republik Indonesia (LPP RRI)',\n",
       "       'PT. Badan Penerbit Kedaulatan Rakyat (Kedaulatan Rakyat)',\n",
       "       'PT. Aksara Solopos (Solopos)', 'PT. Suara Nusa Mataram',\n",
       "       'PT. Penerbitan Harian Waspada (Waspada)',\n",
       "       'PT. Cakrawala Andalas Televisi (ANTV)',\n",
       "       'PT. Citra Media Nusa Purnama (Media Indonesia)',\n",
       "       'PT. Media Fajar (Fajar)',\n",
       "       'PT. Bina Media Tenggara (The Jakarta Post)',\n",
       "       'PT. Bali Post (Bali Post)',\n",
       "       'PT. Media Nusantara Citra (MNC Group)',\n",
       "       'PT. Tempo Inti Media (Tempo Group)',\n",
       "       'PT. Genta Singgalang Pres (Singgalang)',\n",
       "       'PT. Kompas Media Nusantara (Kompas Group)',\n",
       "       'PT. Pikiran Rakyat Bandung (Pikiran Rakyat)',\n",
       "       'PT. Wahana Ekonomi Semesta (Rakyat Merdeka)',\n",
       "       'PT. Jurnalindo Aksara Grafika (Bisnis Indonesia)',\n",
       "       'Ikatan Jurnalis Televisi Indonesia (IJTI)',\n",
       "       'Departemen Ilmu Komunikasi Fakultas Ilmu Sosial dan Ilmu Politik Universitas Indonesia',\n",
       "       'Institut Ilmu Sosial dan Ilmu Politik (IISIP) Jakarta',\n",
       "       'Jurusan Program Studi Ilmu Komunikasi Jurnalistik Universitas Pembangunan Nasional Veteran Yogyakarta',\n",
       "       'Jurusan/Program Studi Ilmu Komunikasi, Lembaga Pendidikan London School Public Relation',\n",
       "       'Jurusan/Program Studi ilmu Komunikasi Universitas DR. Moestopo Beragama',\n",
       "       'Persatuan Wartawan Indonesia (PWI)',\n",
       "       'Aliansi Jurnalis Independen (AJI)',\n",
       "       'Lembaga Pers Dr.Soetomo (Yayasan Pendidikan dan Multimedia Adinegoro)',\n",
       "       'Prodi Ilmu Komunikasi FISIP UMJ',\n",
       "       'Lembaga UKW Universitas Dr. Soetomo (UNITOMO)',\n",
       "       'Pewarta Foto Indonesia (PFI)'], dtype=object)"
      ]
     },
     "execution_count": 46,
     "metadata": {},
     "output_type": "execute_result"
    }
   ],
   "source": [
    "uji_komp['Nama Lembaga'].unique()"
   ]
  },
  {
   "cell_type": "code",
   "execution_count": 44,
   "metadata": {},
   "outputs": [
    {
     "data": {
      "text/plain": [
       "array(['DKI Jakarta', 'Yogyakarta', 'Jawa Tengah',\n",
       "       'Maluku Tenggara Barat', 'Sumatera Utara', 'Sulawesi Selatan',\n",
       "       'Bali', 'Sumatera Barat', 'Jawa Barat', 'Banten', 'Jawa Timur'],\n",
       "      dtype=object)"
      ]
     },
     "execution_count": 44,
     "metadata": {},
     "output_type": "execute_result"
    }
   ],
   "source": [
    "uji_komp['Provinsi'].unique()"
   ]
  },
  {
   "cell_type": "code",
   "execution_count": 52,
   "metadata": {},
   "outputs": [
    {
     "data": {
      "text/plain": [
       "<AxesSubplot:>"
      ]
     },
     "execution_count": 52,
     "metadata": {},
     "output_type": "execute_result"
    },
    {
     "data": {
      "application/vnd.jupyter.widget-view+json": {
       "model_id": "50623f98d025454b8339a217c4c0ce2b",
       "version_major": 2,
       "version_minor": 0
      },
      "image/png": "[encoded data removed]",
      "text/html": [
       "\n",
       "            <div style=\"display: inline-block;\">\n",
       "                <div class=\"jupyter-widgets widget-label\" style=\"text-align: center;\">\n",
       "                    Figure\n",
       "                </div>\n",
       "                <img src='data:image/png;base64,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' width=640.0/>\n",
       "            </div>\n",
       "        "
      ],
      "text/plain": [
       "Canvas(toolbar=Toolbar(toolitems=[('Home', 'Reset original view', 'home', 'home'), ('Back', 'Back to previous …"
      ]
     },
     "metadata": {},
     "output_type": "display_data"
    }
   ],
   "source": [
    "uji_komp['Provinsi'].value_counts().plot.bar()"
   ]
  },
  {
   "cell_type": "code",
   "execution_count": 45,
   "metadata": {},
   "outputs": [
    {
     "data": {
      "text/plain": [
       "array(['Lembaga Uji', nan, 'Lembaga UKW'], dtype=object)"
      ]
     },
     "execution_count": 45,
     "metadata": {},
     "output_type": "execute_result"
    }
   ],
   "source": [
    "uji_komp['Keterangan'].unique()"
   ]
  },
  {
   "cell_type": "code",
   "execution_count": null,
   "metadata": {},
   "outputs": [],
   "source": []
  }
 ],
 "metadata": {
  "kernelspec": {
   "display_name": "Python 3.8.3 64-bit",
   "language": "python",
   "name": "python3"
  },
  "language_info": {
   "codemirror_mode": {
    "name": "ipython",
    "version": 3
   },
   "file_extension": ".py",
   "mimetype": "text/x-python",
   "name": "python",
   "nbconvert_exporter": "python",
   "pygments_lexer": "ipython3",
   "version": "3.8.3"
  },
  "orig_nbformat": 4,
  "vscode": {
   "interpreter": {
    "hash": "9650cb4e16cdd4a8e8e2d128bf38d875813998db22a3c986335f89e0cb4d7bb2"
   }
  }
 },
 "nbformat": 4,
 "nbformat_minor": 2
}
