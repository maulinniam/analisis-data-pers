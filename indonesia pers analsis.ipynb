{
 "cells": [
  {
   "cell_type": "code",
   "execution_count": 3,
   "metadata": {},
   "outputs": [],
   "source": [
    "from pandas_bokeh import pd, plot"
   ]
  },
  {
   "cell_type": "code",
   "execution_count": 13,
   "metadata": {},
   "outputs": [],
   "source": [
    "ppers = pd.read_csv('data/perusahaan_pers.csv', \n",
    "                    usecols=['No', 'Nama Media', 'Jenis Media', 'Penanggung Jawab', 'Pemimpin Redaksi',\n",
    "                             'Badan Hukum', 'Provinsi', 'Alamat', 'Telp', 'Email', 'Website', 'Status',\n",
    "                             'User Status Certificate Date'])"
   ]
  },
  {
   "cell_type": "code",
   "execution_count": 14,
   "metadata": {},
   "outputs": [
    {
     "name": "stdout",
     "output_type": "stream",
     "text": [
      "<class 'pandas.core.frame.DataFrame'>\n",
      "RangeIndex: 1800 entries, 0 to 1799\n",
      "Data columns (total 13 columns):\n",
      " #   Column                        Non-Null Count  Dtype \n",
      "---  ------                        --------------  ----- \n",
      " 0   No                            1800 non-null   int64 \n",
      " 1   Nama Media                    1800 non-null   object\n",
      " 2   Jenis Media                   1800 non-null   object\n",
      " 3   Penanggung Jawab              1183 non-null   object\n",
      " 4   Pemimpin Redaksi              1183 non-null   object\n",
      " 5   Badan Hukum                   1797 non-null   object\n",
      " 6   Provinsi                      1799 non-null   object\n",
      " 7   Alamat                        1773 non-null   object\n",
      " 8   Telp                          1499 non-null   object\n",
      " 9   Email                         1438 non-null   object\n",
      " 10  Website                       1326 non-null   object\n",
      " 11  Status                        1800 non-null   object\n",
      " 12  User Status Certificate Date  1800 non-null   object\n",
      "dtypes: int64(1), object(12)\n",
      "memory usage: 182.9+ KB\n"
     ]
    }
   ],
   "source": [
    "ppers.info()"
   ]
  },
  {
   "cell_type": "code",
   "execution_count": 15,
   "metadata": {},
   "outputs": [
    {
     "data": {
      "text/html": [
       "<div>\n",
       "<style scoped>\n",
       "    .dataframe tbody tr th:only-of-type {\n",
       "        vertical-align: middle;\n",
       "    }\n",
       "\n",
       "    .dataframe tbody tr th {\n",
       "        vertical-align: top;\n",
       "    }\n",
       "\n",
       "    .dataframe thead th {\n",
       "        text-align: right;\n",
       "    }\n",
       "</style>\n",
       "<table border=\"1\" class=\"dataframe\">\n",
       "  <thead>\n",
       "    <tr style=\"text-align: right;\">\n",
       "      <th></th>\n",
       "      <th>No</th>\n",
       "      <th>Nama Media</th>\n",
       "      <th>Jenis Media</th>\n",
       "      <th>Penanggung Jawab</th>\n",
       "      <th>Pemimpin Redaksi</th>\n",
       "      <th>Badan Hukum</th>\n",
       "      <th>Provinsi</th>\n",
       "      <th>Alamat</th>\n",
       "      <th>Telp</th>\n",
       "      <th>Email</th>\n",
       "      <th>Website</th>\n",
       "      <th>Status</th>\n",
       "      <th>User Status Certificate Date</th>\n",
       "    </tr>\n",
       "  </thead>\n",
       "  <tbody>\n",
       "    <tr>\n",
       "      <th>0</th>\n",
       "      <td>1</td>\n",
       "      <td>Bolmongraya.co</td>\n",
       "      <td>Siber</td>\n",
       "      <td>Asrar Jusuf</td>\n",
       "      <td>Asrar Jusuf</td>\n",
       "      <td>Media Bolmong Raya</td>\n",
       "      <td>Sulawesi Utara</td>\n",
       "      <td>Jl AP Mokoginta, Desa Pontodon, Kota Kotamobag...</td>\n",
       "      <td>08114317460</td>\n",
       "      <td>Bolmongraya99@gmail.com</td>\n",
       "      <td>https://bolmongraya.co</td>\n",
       "      <td>Terverifikasi Administratif dan Faktual</td>\n",
       "      <td>2022-06-23</td>\n",
       "    </tr>\n",
       "    <tr>\n",
       "      <th>1</th>\n",
       "      <td>2</td>\n",
       "      <td>Bolmongpost.com</td>\n",
       "      <td>Siber</td>\n",
       "      <td>Satrin Lasama`</td>\n",
       "      <td>Satrin Lasama`</td>\n",
       "      <td>Bolmong Post Cipta Parasana</td>\n",
       "      <td>Sulawesi Utara</td>\n",
       "      <td>Jalan Diponegoro, Kelurahan Biga, Kecamatan Ko...</td>\n",
       "      <td>0811434886 -085299938086</td>\n",
       "      <td>redaksibolmongpost@gmail.com</td>\n",
       "      <td>www.bolmongpost.com</td>\n",
       "      <td>Terverifikasi Administratif dan Faktual</td>\n",
       "      <td>2022-06-23</td>\n",
       "    </tr>\n",
       "    <tr>\n",
       "      <th>2</th>\n",
       "      <td>3</td>\n",
       "      <td>Totabuan.news</td>\n",
       "      <td>Siber</td>\n",
       "      <td>Fernandus Yusi Adam</td>\n",
       "      <td>Fernandus Yusi Adam</td>\n",
       "      <td>Totabuan Pers Indonesia</td>\n",
       "      <td>Sulawesi Utara</td>\n",
       "      <td>Jln. TG Manoppo RT/RW 003/006. Kelurahan Motob...</td>\n",
       "      <td>085360500666</td>\n",
       "      <td>totabuanews@gmail.com</td>\n",
       "      <td>https://totabuan.news</td>\n",
       "      <td>Terverifikasi Administratif dan Faktual</td>\n",
       "      <td>2022-06-23</td>\n",
       "    </tr>\n",
       "  </tbody>\n",
       "</table>\n",
       "</div>"
      ],
      "text/plain": [
       "   No       Nama Media Jenis Media     Penanggung Jawab     Pemimpin Redaksi  \\\n",
       "0   1   Bolmongraya.co       Siber          Asrar Jusuf          Asrar Jusuf   \n",
       "1   2  Bolmongpost.com       Siber       Satrin Lasama`       Satrin Lasama`   \n",
       "2   3    Totabuan.news       Siber  Fernandus Yusi Adam  Fernandus Yusi Adam   \n",
       "\n",
       "                   Badan Hukum        Provinsi  \\\n",
       "0           Media Bolmong Raya  Sulawesi Utara   \n",
       "1  Bolmong Post Cipta Parasana  Sulawesi Utara   \n",
       "2      Totabuan Pers Indonesia  Sulawesi Utara   \n",
       "\n",
       "                                              Alamat  \\\n",
       "0  Jl AP Mokoginta, Desa Pontodon, Kota Kotamobag...   \n",
       "1  Jalan Diponegoro, Kelurahan Biga, Kecamatan Ko...   \n",
       "2  Jln. TG Manoppo RT/RW 003/006. Kelurahan Motob...   \n",
       "\n",
       "                       Telp                         Email  \\\n",
       "0               08114317460       Bolmongraya99@gmail.com   \n",
       "1  0811434886 -085299938086  redaksibolmongpost@gmail.com   \n",
       "2              085360500666         totabuanews@gmail.com   \n",
       "\n",
       "                  Website                                   Status  \\\n",
       "0  https://bolmongraya.co  Terverifikasi Administratif dan Faktual   \n",
       "1     www.bolmongpost.com  Terverifikasi Administratif dan Faktual   \n",
       "2   https://totabuan.news  Terverifikasi Administratif dan Faktual   \n",
       "\n",
       "  User Status Certificate Date  \n",
       "0                   2022-06-23  \n",
       "1                   2022-06-23  \n",
       "2                   2022-06-23  "
      ]
     },
     "execution_count": 15,
     "metadata": {},
     "output_type": "execute_result"
    }
   ],
   "source": [
    "ppers.head(3)"
   ]
  },
  {
   "cell_type": "code",
   "execution_count": 16,
   "metadata": {},
   "outputs": [
    {
     "data": {
      "text/html": [
       "<div>\n",
       "<style scoped>\n",
       "    .dataframe tbody tr th:only-of-type {\n",
       "        vertical-align: middle;\n",
       "    }\n",
       "\n",
       "    .dataframe tbody tr th {\n",
       "        vertical-align: top;\n",
       "    }\n",
       "\n",
       "    .dataframe thead th {\n",
       "        text-align: right;\n",
       "    }\n",
       "</style>\n",
       "<table border=\"1\" class=\"dataframe\">\n",
       "  <thead>\n",
       "    <tr style=\"text-align: right;\">\n",
       "      <th></th>\n",
       "      <th>No</th>\n",
       "      <th>Nama Media</th>\n",
       "      <th>Jenis Media</th>\n",
       "      <th>Penanggung Jawab</th>\n",
       "      <th>Pemimpin Redaksi</th>\n",
       "      <th>Badan Hukum</th>\n",
       "      <th>Provinsi</th>\n",
       "      <th>Alamat</th>\n",
       "      <th>Telp</th>\n",
       "      <th>Email</th>\n",
       "      <th>Website</th>\n",
       "      <th>Status</th>\n",
       "      <th>User Status Certificate Date</th>\n",
       "    </tr>\n",
       "  </thead>\n",
       "  <tbody>\n",
       "    <tr>\n",
       "      <th>1797</th>\n",
       "      <td>1788</td>\n",
       "      <td>Riau24.com</td>\n",
       "      <td>Siber</td>\n",
       "      <td>NaN</td>\n",
       "      <td>NaN</td>\n",
       "      <td>PT</td>\n",
       "      <td>Riau</td>\n",
       "      <td>Perkantoran Grand Sudirman Blok D 18 Jl. Datuk...</td>\n",
       "      <td>085320004928</td>\n",
       "      <td>info@riau24.com</td>\n",
       "      <td>www.riau24.com</td>\n",
       "      <td>Terverifikasi Administrasi dan Faktual</td>\n",
       "      <td>2018-09-04</td>\n",
       "    </tr>\n",
       "    <tr>\n",
       "      <th>1798</th>\n",
       "      <td>1789</td>\n",
       "      <td>Luwuk Post</td>\n",
       "      <td>Cetak</td>\n",
       "      <td>NaN</td>\n",
       "      <td>NaN</td>\n",
       "      <td>PT</td>\n",
       "      <td>Sulawesi Tengah</td>\n",
       "      <td>Jl. Imam Bonjol Km3 No.4 Kec. Luwuk, Kab. Bang...</td>\n",
       "      <td>0461-325497</td>\n",
       "      <td>NaN</td>\n",
       "      <td>NaN</td>\n",
       "      <td>Terverifikasi Administrasi dan Faktual</td>\n",
       "      <td>2018-09-04</td>\n",
       "    </tr>\n",
       "    <tr>\n",
       "      <th>1799</th>\n",
       "      <td>1790</td>\n",
       "      <td>Kawanua Tv</td>\n",
       "      <td>Televisi</td>\n",
       "      <td>NaN</td>\n",
       "      <td>NaN</td>\n",
       "      <td>PT</td>\n",
       "      <td>Sulawesi Utara</td>\n",
       "      <td>Gedung Graha Pena Manado Post Lt. 3 Jl. Babe P...</td>\n",
       "      <td>0431-855558</td>\n",
       "      <td>kawanuatv.md@gmail.com</td>\n",
       "      <td>NaN</td>\n",
       "      <td>Terverifikasi Administrasi dan Faktual</td>\n",
       "      <td>2018-09-04</td>\n",
       "    </tr>\n",
       "  </tbody>\n",
       "</table>\n",
       "</div>"
      ],
      "text/plain": [
       "        No  Nama Media Jenis Media Penanggung Jawab Pemimpin Redaksi  \\\n",
       "1797  1788  Riau24.com       Siber              NaN              NaN   \n",
       "1798  1789  Luwuk Post       Cetak              NaN              NaN   \n",
       "1799  1790  Kawanua Tv    Televisi              NaN              NaN   \n",
       "\n",
       "     Badan Hukum         Provinsi  \\\n",
       "1797          PT             Riau   \n",
       "1798          PT  Sulawesi Tengah   \n",
       "1799          PT   Sulawesi Utara   \n",
       "\n",
       "                                                 Alamat          Telp  \\\n",
       "1797  Perkantoran Grand Sudirman Blok D 18 Jl. Datuk...  085320004928   \n",
       "1798  Jl. Imam Bonjol Km3 No.4 Kec. Luwuk, Kab. Bang...   0461-325497   \n",
       "1799  Gedung Graha Pena Manado Post Lt. 3 Jl. Babe P...   0431-855558   \n",
       "\n",
       "                       Email         Website  \\\n",
       "1797         info@riau24.com  www.riau24.com   \n",
       "1798                     NaN             NaN   \n",
       "1799  kawanuatv.md@gmail.com             NaN   \n",
       "\n",
       "                                      Status User Status Certificate Date  \n",
       "1797  Terverifikasi Administrasi dan Faktual                   2018-09-04  \n",
       "1798  Terverifikasi Administrasi dan Faktual                   2018-09-04  \n",
       "1799  Terverifikasi Administrasi dan Faktual                   2018-09-04  "
      ]
     },
     "execution_count": 16,
     "metadata": {},
     "output_type": "execute_result"
    }
   ],
   "source": [
    "ppers.tail(3)"
   ]
  },
  {
   "cell_type": "code",
   "execution_count": 28,
   "metadata": {},
   "outputs": [],
   "source": [
    "by_provinsi = ppers.groupby(['Provinsi'])"
   ]
  },
  {
   "cell_type": "code",
   "execution_count": 73,
   "metadata": {},
   "outputs": [
    {
     "data": {
      "text/plain": [
       "<AxesSubplot:xlabel='Provinsi'>"
      ]
     },
     "execution_count": 73,
     "metadata": {},
     "output_type": "execute_result"
    },
    {
     "data": {
      "image/png": "[encoded data removed]",
      "text/plain": [
       "<Figure size 432x288 with 1 Axes>"
      ]
     },
     "metadata": {
      "needs_background": "light"
     },
     "output_type": "display_data"
    }
   ],
   "source": [
    "by_provinsi['Nama Media'].count().sort_values(ascending=False).plot.bar()"
   ]
  },
  {
   "cell_type": "code",
   "execution_count": 71,
   "metadata": {},
   "outputs": [
    {
     "data": {
      "text/plain": [
       "<AxesSubplot:xlabel='Jenis Media'>"
      ]
     },
     "execution_count": 71,
     "metadata": {},
     "output_type": "execute_result"
    },
    {
     "data": {
      "image/png": "[encoded data removed]",
      "text/plain": [
       "<Figure size 432x288 with 1 Axes>"
      ]
     },
     "metadata": {
      "needs_background": "light"
     },
     "output_type": "display_data"
    }
   ],
   "source": [
    "ppers.groupby(['Jenis Media'])['Nama Media'].count().sort_values(ascending=False).plot.bar()"
   ]
  }
 ],
 "metadata": {
  "kernelspec": {
   "display_name": "Python 3.8.3 64-bit",
   "language": "python",
   "name": "python3"
  },
  "language_info": {
   "codemirror_mode": {
    "name": "ipython",
    "version": 3
   },
   "file_extension": ".py",
   "mimetype": "text/x-python",
   "name": "python",
   "nbconvert_exporter": "python",
   "pygments_lexer": "ipython3",
   "version": "3.8.3"
  },
  "orig_nbformat": 4,
  "vscode": {
   "interpreter": {
    "hash": "9650cb4e16cdd4a8e8e2d128bf38d875813998db22a3c986335f89e0cb4d7bb2"
   }
  }
 },
 "nbformat": 4,
 "nbformat_minor": 2
}
