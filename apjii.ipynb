{
 "cells": [
  {
   "attachments": {},
   "cell_type": "markdown",
   "metadata": {},
   "source": [
    "## Data Anggota Penyelenggara APJII "
   ]
  },
  {
   "cell_type": "code",
   "execution_count": 1,
   "metadata": {},
   "outputs": [],
   "source": [
    "import requests\n",
    "from bs4 import BeautifulSoup as soup\n",
    "import csv\n",
    "from tqdm import tqdm"
   ]
  },
  {
   "cell_type": "code",
   "execution_count": 10,
   "metadata": {},
   "outputs": [],
   "source": [
    "header = ['no_reg', 'nama_perusahaan', 'nama_merek_usaha', 'tipe_keanggotaan', 'jenis_perizinan', 'domain', 'alamat_kantor',\n",
    "          'kelurahan', 'kecamatan', 'kabkota', 'provinsi', 'kodepos', 'phone', 'fax']\n",
    "\n",
    "with open('data/apjii/penyelenggara_apjii.csv', 'w', encoding='UTF8', newline='') as csvfile:\n",
    "  csv.writer(csvfile).writerow(header)\n",
    "  "
   ]
  },
  {
   "cell_type": "code",
   "execution_count": 2,
   "metadata": {},
   "outputs": [],
   "source": [
    "s = requests.Session()"
   ]
  },
  {
   "cell_type": "code",
   "execution_count": 3,
   "metadata": {},
   "outputs": [],
   "source": [
    "r = s.get('https://apjii.or.id/anggota/penyelengara')\n",
    "res = soup(r.text, 'html.parser')"
   ]
  },
  {
   "cell_type": "code",
   "execution_count": 12,
   "metadata": {},
   "outputs": [
    {
     "data": {
      "text/plain": [
       "3798"
      ]
     },
     "execution_count": 12,
     "metadata": {},
     "output_type": "execute_result"
    }
   ],
   "source": [
    "pages = int(res.find('div', {'class':'info'}).text.split(' of ')[1].strip())\n",
    "pages"
   ]
  },
  {
   "cell_type": "code",
   "execution_count": 11,
   "metadata": {},
   "outputs": [
    {
     "name": "stderr",
     "output_type": "stream",
     "text": [
      "100%|██████████| 3798/3798 [14:58<00:00,  4.23it/s] \n"
     ]
    }
   ],
   "source": [
    "for page in tqdm(range(1,pages+1)):\n",
    "  r = s.get(f'https://apjii.or.id/anggota/penyelengara?page={page}')\n",
    "  res = soup(r.text, 'html.parser')\n",
    "  \n",
    "  for content in res.find_all('div', {'class': 'modal-content'}):\n",
    "    nama_perusahaan = content.find('h5').text\n",
    "    no_reg = content.find_all('li')[1].find_all('span')[1].text.replace(': ', '').strip()\n",
    "    nama_merek_usaha = content.find_all('li')[2].find_all('span')[1].text.replace(': ', '').strip()\n",
    "    tipe_keanggotaan = content.find_all('li')[3].find_all('span')[1].text.replace(': ', '').strip()\n",
    "    jenis_perizinan = content.find_all('li')[4].find_all('span')[1].text.replace(': ', '').strip()\n",
    "    domain = content.find_all('li')[5].find_all('span')[1].text.replace(': ', '').strip()\n",
    "    alamat_kantor = content.find_all('li')[6].find_all('span')[1].text.replace(': ', '').strip()\n",
    "    kelurahan = content.find_all('li')[7].find_all('span')[1].text.replace(': ', '').strip()\n",
    "    kecamatan = content.find_all('li')[8].find_all('span')[1].text.replace(': ', '').strip()\n",
    "    kabkota = content.find_all('li')[9].find_all('span')[1].text.replace(': ', '').strip()\n",
    "    provinsi = content.find_all('li')[10].find_all('span')[1].text.replace(': ', '').strip()\n",
    "    kodepos = content.find_all('li')[11].find_all('span')[1].text.replace(': ', '').strip()\n",
    "    phone = content.find_all('li')[12].find_all('span')[1].text.replace(': ', '').strip()\n",
    "    fax = content.find_all('li')[13].find_all('span')[1].text.replace(':', '').strip()\n",
    "    \n",
    "    data = [no_reg, nama_perusahaan, nama_merek_usaha, tipe_keanggotaan, jenis_perizinan, domain, alamat_kantor,\n",
    "            kelurahan, kecamatan, kabkota, provinsi, kodepos, phone, fax]\n",
    "    \n",
    "    with open('data/apjii/penyelenggara_apjii.csv', mode='a+', newline='', encoding='UTF8') as csvfile:\n",
    "      csv.writer(csvfile).writerow(data)\n",
    "  \n",
    "  "
   ]
  },
  {
   "attachments": {},
   "cell_type": "markdown",
   "metadata": {},
   "source": [
    "Sebanyak 3798 laman berhasil diakuisi data menggunakan `tqdm` selama 14m 59.1s"
   ]
  },
  {
   "attachments": {},
   "cell_type": "markdown",
   "metadata": {},
   "source": [
    "## IDNIC - APJII"
   ]
  },
  {
   "cell_type": "code",
   "execution_count": 14,
   "metadata": {},
   "outputs": [],
   "source": [
    "header = ['no_reg', 'nama_perusahaan', 'nama_merek_usaha', 'tipe_keanggotaan', 'jenis_perizinan', 'domain', 'alamat_kantor',\n",
    "          'kelurahan', 'kecamatan', 'kabkota', 'provinsi', 'kodepos', 'phone', 'fax']\n",
    "\n",
    "with open('data/apjii/idnic-apjii.csv', 'w', encoding='UTF8', newline='') as csvfile:\n",
    "  csv.writer(csvfile).writerow(header)"
   ]
  },
  {
   "cell_type": "code",
   "execution_count": 17,
   "metadata": {},
   "outputs": [
    {
     "data": {
      "text/plain": [
       "1853"
      ]
     },
     "execution_count": 17,
     "metadata": {},
     "output_type": "execute_result"
    }
   ],
   "source": [
    "r = s.get('https://apjii.or.id/anggota/idnic')\n",
    "res = soup(r.text, 'html.parser')\n",
    "pages = int(res.find('div', {'class':'info'}).text.split(' of ')[1].strip())\n",
    "pages"
   ]
  },
  {
   "cell_type": "code",
   "execution_count": 15,
   "metadata": {},
   "outputs": [
    {
     "name": "stderr",
     "output_type": "stream",
     "text": [
      "100%|██████████| 1853/1853 [05:59<00:00,  5.15it/s]\n"
     ]
    }
   ],
   "source": [
    "for page in tqdm(range(1,pages+1)):\n",
    "  r = s.get(f'https://apjii.or.id/anggota/idnic?page={page}')\n",
    "  res = soup(r.text, 'html.parser')\n",
    "  \n",
    "  for content in res.find_all('div', {'class': 'modal-content'}):\n",
    "    nama_perusahaan = content.find('h5').text\n",
    "    no_reg = content.find_all('li')[1].find_all('span')[1].text.replace(': ', '').strip()\n",
    "    nama_merek_usaha = content.find_all('li')[2].find_all('span')[1].text.replace(': ', '').strip()\n",
    "    tipe_keanggotaan = content.find_all('li')[3].find_all('span')[1].text.replace(': ', '').strip()\n",
    "    jenis_perizinan = content.find_all('li')[4].find_all('span')[1].text.replace(': ', '').strip()\n",
    "    domain = content.find_all('li')[5].find_all('span')[1].text.replace(': ', '').strip()\n",
    "    alamat_kantor = content.find_all('li')[6].find_all('span')[1].text.replace(': ', '').strip()\n",
    "    kelurahan = content.find_all('li')[7].find_all('span')[1].text.replace(': ', '').strip()\n",
    "    kecamatan = content.find_all('li')[8].find_all('span')[1].text.replace(': ', '').strip()\n",
    "    kabkota = content.find_all('li')[9].find_all('span')[1].text.replace(': ', '').strip()\n",
    "    provinsi = content.find_all('li')[10].find_all('span')[1].text.replace(': ', '').strip()\n",
    "    kodepos = content.find_all('li')[11].find_all('span')[1].text.replace(': ', '').strip()\n",
    "    phone = content.find_all('li')[12].find_all('span')[1].text.replace(': ', '').strip()\n",
    "    fax = content.find_all('li')[13].find_all('span')[1].text.replace(':', '').strip()\n",
    "    \n",
    "    data = [no_reg, nama_perusahaan, nama_merek_usaha, tipe_keanggotaan, jenis_perizinan, domain, alamat_kantor,\n",
    "            kelurahan, kecamatan, kabkota, provinsi, kodepos, phone, fax]\n",
    "    \n",
    "    with open('data/apjii/idnic-apjii.csv', mode='a+', newline='', encoding='UTF8') as csvfile:\n",
    "      csv.writer(csvfile).writerow(data)\n",
    "  \n",
    "  "
   ]
  },
  {
   "attachments": {},
   "cell_type": "markdown",
   "metadata": {},
   "source": [
    "Sebanyak 1853 laman berhasil diakuisi data menggunakan `tqdm` selama 5m 59.6s"
   ]
  },
  {
   "cell_type": "markdown",
   "metadata": {},
   "source": []
  }
 ],
 "metadata": {
  "kernelspec": {
   "display_name": "Python 3",
   "language": "python",
   "name": "python3"
  },
  "language_info": {
   "codemirror_mode": {
    "name": "ipython",
    "version": 3
   },
   "file_extension": ".py",
   "mimetype": "text/x-python",
   "name": "python",
   "nbconvert_exporter": "python",
   "pygments_lexer": "ipython3",
   "version": "3.8.3"
  },
  "orig_nbformat": 4
 },
 "nbformat": 4,
 "nbformat_minor": 2
}
